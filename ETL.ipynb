{
 "cells": [
  {
   "cell_type": "code",
   "execution_count": 60,
   "metadata": {},
   "outputs": [],
   "source": [
    "import numpy as np\n",
    "import pandas as pd\n",
    "import re"
   ]
  },
  {
   "cell_type": "markdown",
   "metadata": {},
   "source": [
    "## Carga de datasets"
   ]
  },
  {
   "cell_type": "code",
   "execution_count": 61,
   "metadata": {},
   "outputs": [],
   "source": [
    "#Data Telefonía Movil\n",
    "\n",
    "movil_ingresos_trim=pd.read_csv(\"Telefonía Movil/Ingresos_trimestrales_telefonía móvil.csv\")\n",
    "movil_accesos_trim=pd.read_csv(\"Telefonía Movil/Penetración_nacional_telefonia_movil-accesos_cada_100_hab.csv\")\n",
    "movil_altas_mens=pd.read_csv(\"Telefonía Movil/Portabilidad_altas_mensuales_por_operador.csv\")\n",
    "movil_minutos_trim=pd.read_csv(\"Telefonía Movil/Trafico_suscriptores_telefonia_movil-miles_de_minutos.csv\")"
   ]
  },
  {
   "cell_type": "code",
   "execution_count": 62,
   "metadata": {},
   "outputs": [],
   "source": [
    "#Data Telefonía Fija\n",
    "\n",
    "#Data Nacional\n",
    "n_fija_ingresos_trim=pd.read_csv(\"Telefonia Fija/Ingresos_trimestrales_telefonía fija.csv\")\n",
    "n_fija_accesos_habitantes_trim=pd.read_csv(\"Telefonia Fija/Penetración_total_nacional_telefonía_fija_por_trimestre.csv\")\n",
    "\n",
    "#Data Provincia\n",
    "p_fija_accesos_tipos_trim=pd.read_csv(\"Telefonia Fija/Accesos_telefonía_fija_por_provincia-hogares-comercios-gobierno-otros.csv\")\n",
    "p_fija_accesos_habitantes_trim=pd.read_csv(\"Telefonia Fija/Penetración_provincial_telefonia_fija_accesos_cada_100_hogares.csv\")"
   ]
  },
  {
   "cell_type": "code",
   "execution_count": 63,
   "metadata": {},
   "outputs": [],
   "source": [
    "#Data Internet\n",
    "\n",
    "#Data Nacional\n",
    "\n",
    "n_internet_ingresos_trim=pd.read_csv(\"Internet/Ingresos_trimestrales_prestación_servicio_Internet_fijo.csv\")\n",
    "n_internet_tipo_trim=pd.read_csv(\"Internet/Serie_trimestral_accesos_Internet_fijo_por_tecnología.csv\")\n",
    "n_internet_accesos_velocidadMedia_trim=pd.read_csv(\"Internet\\Velocidad_Media_de_bajada_Internet_fijo.csv\")\n",
    "\n",
    "#Data Provincia\n",
    "\n",
    "p_internet_accesos_tecnologia_trim=pd.read_csv(\"Internet/Acceso_Internet_fijo_por_tecnología_y_provincia.csv\")\n",
    "p_internet_accesos_habitantes_trim=pd.read_csv(\"Internet/Penetración_de _Internet fijo _(accesos _cada_100 hogares).csv\")\n",
    "p_internet_accesos_velocidadMedia_trim=pd.read_csv(\"Internet/Velocidad_media_bajada_Internet_fijo_por_provincia.csv\")\n",
    "\n"
   ]
  },
  {
   "cell_type": "markdown",
   "metadata": {},
   "source": [
    "## Transformación de datos Telefonía Móvil"
   ]
  },
  {
   "cell_type": "code",
   "execution_count": 64,
   "metadata": {},
   "outputs": [
    {
     "name": "stdout",
     "output_type": "stream",
     "text": [
      "<class 'pandas.core.frame.DataFrame'>\n",
      "RangeIndex: 37 entries, 0 to 36\n",
      "Data columns (total 4 columns):\n",
      " #   Column                 Non-Null Count  Dtype \n",
      "---  ------                 --------------  ----- \n",
      " 0   Año                    37 non-null     int64 \n",
      " 1   Trimestre              37 non-null     int64 \n",
      " 2   Ingresos (miles de $)  37 non-null     object\n",
      " 3   Periodo                37 non-null     object\n",
      "dtypes: int64(2), object(2)\n",
      "memory usage: 1.3+ KB\n"
     ]
    }
   ],
   "source": [
    "movil_ingresos_trim.info()\n"
   ]
  },
  {
   "cell_type": "code",
   "execution_count": 65,
   "metadata": {},
   "outputs": [
    {
     "name": "stdout",
     "output_type": "stream",
     "text": [
      "0      13135235\n",
      "1      13970806\n",
      "2      15235659\n",
      "3      16218846\n",
      "4      15938353\n",
      "5      17680972\n",
      "6      18976053\n",
      "7      20012332\n",
      "8      19337342\n",
      "9      19945453\n",
      "10     21785238\n",
      "11     24881967\n",
      "12     24763052\n",
      "13     25353971\n",
      "14     27416177\n",
      "15     30143233\n",
      "16     31205565\n",
      "17     33509264\n",
      "18     35711689\n",
      "19     38110028\n",
      "20     38733946\n",
      "21     40653502\n",
      "22     43280089\n",
      "23     44026803\n",
      "24     50246691\n",
      "25     55338816\n",
      "26     60905891\n",
      "27     65388842\n",
      "28     72077147\n",
      "29     73538944\n",
      "30     79634755\n",
      "31     83479114\n",
      "32     93112153\n",
      "33    104782020\n",
      "34    117751925\n",
      "35    127389786\n",
      "36    130454716\n",
      "Name: Ingresos (miles de $), dtype: int64\n"
     ]
    }
   ],
   "source": [
    "# Extraer solo los dígitos numéricos\n",
    "movil_ingresos_trim['Ingresos (miles de $)'] = movil_ingresos_trim['Ingresos (miles de $)'].apply(lambda x: int(re.sub(r'[^\\d]', '', x)))\n",
    "\n",
    "# Verificar los cambios en la columna\n",
    "print(movil_ingresos_trim['Ingresos (miles de $)'])\n",
    "\n"
   ]
  },
  {
   "cell_type": "code",
   "execution_count": 66,
   "metadata": {},
   "outputs": [
    {
     "name": "stdout",
     "output_type": "stream",
     "text": [
      "    Año  Trimestre  Ingresos (miles de $)\n",
      "0  2013          1               13135235\n",
      "1  2013          2               13970806\n",
      "2  2013          3               15235659\n",
      "3  2013          4               16218846\n",
      "4  2014          1               15938353\n"
     ]
    }
   ],
   "source": [
    "# Eliminar la columna \"periodo\"\n",
    "movil_ingresos_trim = movil_ingresos_trim.drop(columns=['Periodo'])\n",
    "\n",
    "# Verificar el DataFrame después de eliminar la columna\n",
    "print(movil_ingresos_trim.head())"
   ]
  },
  {
   "cell_type": "code",
   "execution_count": 67,
   "metadata": {},
   "outputs": [
    {
     "name": "stdout",
     "output_type": "stream",
     "text": [
      "<class 'pandas.core.frame.DataFrame'>\n",
      "RangeIndex: 37 entries, 0 to 36\n",
      "Data columns (total 4 columns):\n",
      " #   Column                    Non-Null Count  Dtype \n",
      "---  ------                    --------------  ----- \n",
      " 0   Año                       37 non-null     int64 \n",
      " 1   Trimestre                 37 non-null     int64 \n",
      " 2   Accesos por cada 100 hab  37 non-null     int64 \n",
      " 3   Periodo                   37 non-null     object\n",
      "dtypes: int64(3), object(1)\n",
      "memory usage: 1.3+ KB\n"
     ]
    }
   ],
   "source": [
    "movil_accesos_trim.info()"
   ]
  },
  {
   "cell_type": "code",
   "execution_count": 68,
   "metadata": {},
   "outputs": [
    {
     "name": "stdout",
     "output_type": "stream",
     "text": [
      "    Año  Trimestre  Accesos por cada 100 hab\n",
      "0  2013          1                       154\n",
      "1  2013          2                       156\n",
      "2  2013          3                       159\n",
      "3  2013          4                       159\n",
      "4  2014          1                       148\n"
     ]
    }
   ],
   "source": [
    "# Eliminar la columna \"periodo\"\n",
    "movil_accesos_trim = movil_accesos_trim.drop(columns=['Periodo'])\n",
    "\n",
    "# Verificar el DataFrame después de eliminar la columna\n",
    "print(movil_accesos_trim.head())"
   ]
  },
  {
   "cell_type": "code",
   "execution_count": 69,
   "metadata": {},
   "outputs": [
    {
     "name": "stdout",
     "output_type": "stream",
     "text": [
      "<class 'pandas.core.frame.DataFrame'>\n",
      "RangeIndex: 120 entries, 0 to 119\n",
      "Data columns (total 7 columns):\n",
      " #   Column         Non-Null Count  Dtype  \n",
      "---  ------         --------------  -----  \n",
      " 0   Año            120 non-null    int64  \n",
      " 1   Mes            120 non-null    int64  \n",
      " 2   Personal       120 non-null    object \n",
      " 3   Claro          120 non-null    object \n",
      " 4   Nextel         78 non-null     float64\n",
      " 5   Movistar       120 non-null    object \n",
      " 6   Total general  120 non-null    object \n",
      "dtypes: float64(1), int64(2), object(4)\n",
      "memory usage: 6.7+ KB\n"
     ]
    }
   ],
   "source": [
    "movil_altas_mens.info()"
   ]
  },
  {
   "cell_type": "code",
   "execution_count": 70,
   "metadata": {},
   "outputs": [
    {
     "name": "stdout",
     "output_type": "stream",
     "text": [
      "Año              int64\n",
      "Mes              int64\n",
      "Personal         int32\n",
      "Claro            int32\n",
      "Nextel           int32\n",
      "Movistar         int32\n",
      "Total general    int32\n",
      "dtype: object\n"
     ]
    }
   ],
   "source": [
    "\n",
    "# Eliminar las comas de las columnas antes de la conversión a entero\n",
    "columnas_a_convertir = ['Personal', 'Claro', 'Nextel', 'Movistar', 'Total general']\n",
    "movil_altas_mens[columnas_a_convertir] = movil_altas_mens[columnas_a_convertir].replace(',', '', regex=True).fillna(0).astype(int)\n",
    "\n",
    "# Verificar el DataFrame después de la conversión\n",
    "print(movil_altas_mens.dtypes)\n"
   ]
  },
  {
   "cell_type": "code",
   "execution_count": 71,
   "metadata": {},
   "outputs": [
    {
     "data": {
      "text/html": [
       "<div>\n",
       "<style scoped>\n",
       "    .dataframe tbody tr th:only-of-type {\n",
       "        vertical-align: middle;\n",
       "    }\n",
       "\n",
       "    .dataframe tbody tr th {\n",
       "        vertical-align: top;\n",
       "    }\n",
       "\n",
       "    .dataframe thead th {\n",
       "        text-align: right;\n",
       "    }\n",
       "</style>\n",
       "<table border=\"1\" class=\"dataframe\">\n",
       "  <thead>\n",
       "    <tr style=\"text-align: right;\">\n",
       "      <th></th>\n",
       "      <th>Año</th>\n",
       "      <th>Mes</th>\n",
       "      <th>Personal</th>\n",
       "      <th>Claro</th>\n",
       "      <th>Nextel</th>\n",
       "      <th>Movistar</th>\n",
       "      <th>Total general</th>\n",
       "    </tr>\n",
       "  </thead>\n",
       "  <tbody>\n",
       "    <tr>\n",
       "      <th>0</th>\n",
       "      <td>2022</td>\n",
       "      <td>2</td>\n",
       "      <td>71090</td>\n",
       "      <td>98497</td>\n",
       "      <td>0</td>\n",
       "      <td>95792</td>\n",
       "      <td>265379</td>\n",
       "    </tr>\n",
       "    <tr>\n",
       "      <th>1</th>\n",
       "      <td>2022</td>\n",
       "      <td>1</td>\n",
       "      <td>73717</td>\n",
       "      <td>88856</td>\n",
       "      <td>0</td>\n",
       "      <td>96240</td>\n",
       "      <td>258813</td>\n",
       "    </tr>\n",
       "    <tr>\n",
       "      <th>2</th>\n",
       "      <td>2021</td>\n",
       "      <td>12</td>\n",
       "      <td>75534</td>\n",
       "      <td>116284</td>\n",
       "      <td>0</td>\n",
       "      <td>102538</td>\n",
       "      <td>294356</td>\n",
       "    </tr>\n",
       "    <tr>\n",
       "      <th>3</th>\n",
       "      <td>2021</td>\n",
       "      <td>11</td>\n",
       "      <td>81311</td>\n",
       "      <td>126052</td>\n",
       "      <td>0</td>\n",
       "      <td>104985</td>\n",
       "      <td>312348</td>\n",
       "    </tr>\n",
       "    <tr>\n",
       "      <th>4</th>\n",
       "      <td>2021</td>\n",
       "      <td>10</td>\n",
       "      <td>59953</td>\n",
       "      <td>109684</td>\n",
       "      <td>0</td>\n",
       "      <td>94402</td>\n",
       "      <td>264039</td>\n",
       "    </tr>\n",
       "  </tbody>\n",
       "</table>\n",
       "</div>"
      ],
      "text/plain": [
       "    Año  Mes  Personal   Claro  Nextel  Movistar  Total general\n",
       "0  2022    2     71090   98497       0     95792         265379\n",
       "1  2022    1     73717   88856       0     96240         258813\n",
       "2  2021   12     75534  116284       0    102538         294356\n",
       "3  2021   11     81311  126052       0    104985         312348\n",
       "4  2021   10     59953  109684       0     94402         264039"
      ]
     },
     "execution_count": 71,
     "metadata": {},
     "output_type": "execute_result"
    }
   ],
   "source": [
    "movil_altas_mens.head()"
   ]
  },
  {
   "cell_type": "code",
   "execution_count": 72,
   "metadata": {},
   "outputs": [
    {
     "name": "stdout",
     "output_type": "stream",
     "text": [
      "<class 'pandas.core.frame.DataFrame'>\n",
      "RangeIndex: 37 entries, 0 to 36\n",
      "Data columns (total 6 columns):\n",
      " #   Column                              Non-Null Count  Dtype \n",
      "---  ------                              --------------  ----- \n",
      " 0   Año                                 37 non-null     int64 \n",
      " 1   Trimestre                           37 non-null     int64 \n",
      " 2   Minutos pospago salientes (miles)   37 non-null     object\n",
      " 3   Minutos prepago salientes (miles)   37 non-null     int64 \n",
      " 4   Total de minutos salientes (miles)  37 non-null     int64 \n",
      " 5   Periodo                             37 non-null     object\n",
      "dtypes: int64(4), object(2)\n",
      "memory usage: 1.9+ KB\n"
     ]
    }
   ],
   "source": [
    "movil_minutos_trim.info()"
   ]
  },
  {
   "cell_type": "code",
   "execution_count": 73,
   "metadata": {},
   "outputs": [
    {
     "data": {
      "text/html": [
       "<div>\n",
       "<style scoped>\n",
       "    .dataframe tbody tr th:only-of-type {\n",
       "        vertical-align: middle;\n",
       "    }\n",
       "\n",
       "    .dataframe tbody tr th {\n",
       "        vertical-align: top;\n",
       "    }\n",
       "\n",
       "    .dataframe thead th {\n",
       "        text-align: right;\n",
       "    }\n",
       "</style>\n",
       "<table border=\"1\" class=\"dataframe\">\n",
       "  <thead>\n",
       "    <tr style=\"text-align: right;\">\n",
       "      <th></th>\n",
       "      <th>Año</th>\n",
       "      <th>Trimestre</th>\n",
       "      <th>Minutos pospago salientes (miles)</th>\n",
       "      <th>Minutos prepago salientes (miles)</th>\n",
       "      <th>Total de minutos salientes (miles)</th>\n",
       "      <th>Periodo</th>\n",
       "    </tr>\n",
       "  </thead>\n",
       "  <tbody>\n",
       "    <tr>\n",
       "      <th>0</th>\n",
       "      <td>2013</td>\n",
       "      <td>1</td>\n",
       "      <td>8.785.943</td>\n",
       "      <td>6582117</td>\n",
       "      <td>15368060</td>\n",
       "      <td>Ene-Mar 2013</td>\n",
       "    </tr>\n",
       "    <tr>\n",
       "      <th>1</th>\n",
       "      <td>2013</td>\n",
       "      <td>2</td>\n",
       "      <td>9.512.689</td>\n",
       "      <td>7108640</td>\n",
       "      <td>16621329</td>\n",
       "      <td>Abr-Jun 2013</td>\n",
       "    </tr>\n",
       "    <tr>\n",
       "      <th>2</th>\n",
       "      <td>2013</td>\n",
       "      <td>3</td>\n",
       "      <td>10.315.484</td>\n",
       "      <td>7335154</td>\n",
       "      <td>17650638</td>\n",
       "      <td>Jul-Sept 2013</td>\n",
       "    </tr>\n",
       "    <tr>\n",
       "      <th>3</th>\n",
       "      <td>2013</td>\n",
       "      <td>4</td>\n",
       "      <td>9.809.515</td>\n",
       "      <td>6250549</td>\n",
       "      <td>16060064</td>\n",
       "      <td>Oct-Dic 2013</td>\n",
       "    </tr>\n",
       "    <tr>\n",
       "      <th>4</th>\n",
       "      <td>2014</td>\n",
       "      <td>1</td>\n",
       "      <td>10.128.751</td>\n",
       "      <td>5799223</td>\n",
       "      <td>15927974</td>\n",
       "      <td>Ene-Mar 2013</td>\n",
       "    </tr>\n",
       "  </tbody>\n",
       "</table>\n",
       "</div>"
      ],
      "text/plain": [
       "    Año  Trimestre Minutos pospago salientes (miles)  \\\n",
       "0  2013          1                         8.785.943   \n",
       "1  2013          2                         9.512.689   \n",
       "2  2013          3                        10.315.484   \n",
       "3  2013          4                         9.809.515   \n",
       "4  2014          1                        10.128.751   \n",
       "\n",
       "   Minutos prepago salientes (miles)  Total de minutos salientes (miles)  \\\n",
       "0                            6582117                            15368060   \n",
       "1                            7108640                            16621329   \n",
       "2                            7335154                            17650638   \n",
       "3                            6250549                            16060064   \n",
       "4                            5799223                            15927974   \n",
       "\n",
       "         Periodo  \n",
       "0   Ene-Mar 2013  \n",
       "1   Abr-Jun 2013  \n",
       "2  Jul-Sept 2013  \n",
       "3   Oct-Dic 2013  \n",
       "4   Ene-Mar 2013  "
      ]
     },
     "execution_count": 73,
     "metadata": {},
     "output_type": "execute_result"
    }
   ],
   "source": [
    "movil_minutos_trim.head()"
   ]
  },
  {
   "cell_type": "code",
   "execution_count": 74,
   "metadata": {},
   "outputs": [],
   "source": [
    "# Eliminar los puntos de la columna \"Minutos pospago salientes (miles)\"\n",
    "movil_minutos_trim['Minutos pospago salientes (miles)'] = movil_minutos_trim['Minutos pospago salientes (miles)'].str.replace('.', '')\n"
   ]
  },
  {
   "cell_type": "code",
   "execution_count": 75,
   "metadata": {},
   "outputs": [],
   "source": [
    "# Convertir la columna \"Minutos pospago salientes (miles)\" a tipo entero (int)\n",
    "movil_minutos_trim['Minutos pospago salientes (miles)'] = movil_minutos_trim['Minutos pospago salientes (miles)'].astype(int)\n",
    "\n"
   ]
  },
  {
   "cell_type": "code",
   "execution_count": 76,
   "metadata": {},
   "outputs": [],
   "source": [
    "# Eliminar la columna \"periodo\"\n",
    "movil_minutos_trim = movil_minutos_trim.drop(columns=['Periodo'])\n"
   ]
  },
  {
   "cell_type": "code",
   "execution_count": 77,
   "metadata": {},
   "outputs": [
    {
     "data": {
      "text/html": [
       "<div>\n",
       "<style scoped>\n",
       "    .dataframe tbody tr th:only-of-type {\n",
       "        vertical-align: middle;\n",
       "    }\n",
       "\n",
       "    .dataframe tbody tr th {\n",
       "        vertical-align: top;\n",
       "    }\n",
       "\n",
       "    .dataframe thead th {\n",
       "        text-align: right;\n",
       "    }\n",
       "</style>\n",
       "<table border=\"1\" class=\"dataframe\">\n",
       "  <thead>\n",
       "    <tr style=\"text-align: right;\">\n",
       "      <th></th>\n",
       "      <th>Año</th>\n",
       "      <th>Trimestre</th>\n",
       "      <th>Minutos pospago salientes (miles)</th>\n",
       "      <th>Minutos prepago salientes (miles)</th>\n",
       "      <th>Total de minutos salientes (miles)</th>\n",
       "    </tr>\n",
       "  </thead>\n",
       "  <tbody>\n",
       "    <tr>\n",
       "      <th>0</th>\n",
       "      <td>2013</td>\n",
       "      <td>1</td>\n",
       "      <td>8785943</td>\n",
       "      <td>6582117</td>\n",
       "      <td>15368060</td>\n",
       "    </tr>\n",
       "    <tr>\n",
       "      <th>1</th>\n",
       "      <td>2013</td>\n",
       "      <td>2</td>\n",
       "      <td>9512689</td>\n",
       "      <td>7108640</td>\n",
       "      <td>16621329</td>\n",
       "    </tr>\n",
       "    <tr>\n",
       "      <th>2</th>\n",
       "      <td>2013</td>\n",
       "      <td>3</td>\n",
       "      <td>10315484</td>\n",
       "      <td>7335154</td>\n",
       "      <td>17650638</td>\n",
       "    </tr>\n",
       "    <tr>\n",
       "      <th>3</th>\n",
       "      <td>2013</td>\n",
       "      <td>4</td>\n",
       "      <td>9809515</td>\n",
       "      <td>6250549</td>\n",
       "      <td>16060064</td>\n",
       "    </tr>\n",
       "    <tr>\n",
       "      <th>4</th>\n",
       "      <td>2014</td>\n",
       "      <td>1</td>\n",
       "      <td>10128751</td>\n",
       "      <td>5799223</td>\n",
       "      <td>15927974</td>\n",
       "    </tr>\n",
       "  </tbody>\n",
       "</table>\n",
       "</div>"
      ],
      "text/plain": [
       "    Año  Trimestre  Minutos pospago salientes (miles)  \\\n",
       "0  2013          1                            8785943   \n",
       "1  2013          2                            9512689   \n",
       "2  2013          3                           10315484   \n",
       "3  2013          4                            9809515   \n",
       "4  2014          1                           10128751   \n",
       "\n",
       "   Minutos prepago salientes (miles)  Total de minutos salientes (miles)  \n",
       "0                            6582117                            15368060  \n",
       "1                            7108640                            16621329  \n",
       "2                            7335154                            17650638  \n",
       "3                            6250549                            16060064  \n",
       "4                            5799223                            15927974  "
      ]
     },
     "execution_count": 77,
     "metadata": {},
     "output_type": "execute_result"
    }
   ],
   "source": [
    "movil_minutos_trim.head()"
   ]
  },
  {
   "cell_type": "markdown",
   "metadata": {},
   "source": [
    "## Transformación de datos Telefonía Fija"
   ]
  },
  {
   "cell_type": "code",
   "execution_count": 78,
   "metadata": {},
   "outputs": [
    {
     "name": "stdout",
     "output_type": "stream",
     "text": [
      "<class 'pandas.core.frame.DataFrame'>\n",
      "RangeIndex: 33 entries, 0 to 32\n",
      "Data columns (total 3 columns):\n",
      " #   Column                 Non-Null Count  Dtype \n",
      "---  ------                 --------------  ----- \n",
      " 0   Año                    33 non-null     int64 \n",
      " 1   Trimestre              33 non-null     int64 \n",
      " 2   Ingresos (miles de $)  33 non-null     object\n",
      "dtypes: int64(2), object(1)\n",
      "memory usage: 924.0+ bytes\n"
     ]
    }
   ],
   "source": [
    "n_fija_ingresos_trim.info()"
   ]
  },
  {
   "cell_type": "code",
   "execution_count": 79,
   "metadata": {},
   "outputs": [
    {
     "data": {
      "text/html": [
       "<div>\n",
       "<style scoped>\n",
       "    .dataframe tbody tr th:only-of-type {\n",
       "        vertical-align: middle;\n",
       "    }\n",
       "\n",
       "    .dataframe tbody tr th {\n",
       "        vertical-align: top;\n",
       "    }\n",
       "\n",
       "    .dataframe thead th {\n",
       "        text-align: right;\n",
       "    }\n",
       "</style>\n",
       "<table border=\"1\" class=\"dataframe\">\n",
       "  <thead>\n",
       "    <tr style=\"text-align: right;\">\n",
       "      <th></th>\n",
       "      <th>Año</th>\n",
       "      <th>Trimestre</th>\n",
       "      <th>Ingresos (miles de $)</th>\n",
       "    </tr>\n",
       "  </thead>\n",
       "  <tbody>\n",
       "    <tr>\n",
       "      <th>0</th>\n",
       "      <td>2014</td>\n",
       "      <td>1</td>\n",
       "      <td>2.916.071,75</td>\n",
       "    </tr>\n",
       "    <tr>\n",
       "      <th>1</th>\n",
       "      <td>2014</td>\n",
       "      <td>2</td>\n",
       "      <td>2.974.865,2</td>\n",
       "    </tr>\n",
       "    <tr>\n",
       "      <th>2</th>\n",
       "      <td>2014</td>\n",
       "      <td>3</td>\n",
       "      <td>3.105.462,02</td>\n",
       "    </tr>\n",
       "    <tr>\n",
       "      <th>3</th>\n",
       "      <td>2014</td>\n",
       "      <td>4</td>\n",
       "      <td>3.339.690,9</td>\n",
       "    </tr>\n",
       "    <tr>\n",
       "      <th>4</th>\n",
       "      <td>2015</td>\n",
       "      <td>1</td>\n",
       "      <td>3.260.124,75</td>\n",
       "    </tr>\n",
       "  </tbody>\n",
       "</table>\n",
       "</div>"
      ],
      "text/plain": [
       "    Año  Trimestre Ingresos (miles de $)\n",
       "0  2014          1          2.916.071,75\n",
       "1  2014          2           2.974.865,2\n",
       "2  2014          3          3.105.462,02\n",
       "3  2014          4           3.339.690,9\n",
       "4  2015          1          3.260.124,75"
      ]
     },
     "execution_count": 79,
     "metadata": {},
     "output_type": "execute_result"
    }
   ],
   "source": [
    "n_fija_ingresos_trim.head()"
   ]
  },
  {
   "cell_type": "code",
   "execution_count": 84,
   "metadata": {},
   "outputs": [],
   "source": [
    "#Eliminar los puntos \n",
    "n_fija_ingresos_trim['Ingresos (miles de $)'] = n_fija_ingresos_trim\t['Ingresos (miles de $)'].str.replace('.', '')\n",
    "n_fija_ingresos_trim['Ingresos (miles de $)'] = n_fija_ingresos_trim\t['Ingresos (miles de $)'].str.replace(',', '.')\n"
   ]
  },
  {
   "cell_type": "code",
   "execution_count": 85,
   "metadata": {},
   "outputs": [
    {
     "name": "stdout",
     "output_type": "stream",
     "text": [
      "Año                        int64\n",
      "Trimestre                  int64\n",
      "Ingresos (miles de $)    float64\n",
      "dtype: object\n"
     ]
    }
   ],
   "source": [
    "# Convertir la columna  a tipo entero (int)\n",
    "n_fija_ingresos_trim['Ingresos (miles de $)'] = n_fija_ingresos_trim['Ingresos (miles de $)'].astype(float)\n",
    "# Verificar el DataFrame después de la conversión\n",
    "print(n_fija_ingresos_trim.dtypes)"
   ]
  },
  {
   "cell_type": "code",
   "execution_count": 87,
   "metadata": {},
   "outputs": [
    {
     "data": {
      "text/html": [
       "<div>\n",
       "<style scoped>\n",
       "    .dataframe tbody tr th:only-of-type {\n",
       "        vertical-align: middle;\n",
       "    }\n",
       "\n",
       "    .dataframe tbody tr th {\n",
       "        vertical-align: top;\n",
       "    }\n",
       "\n",
       "    .dataframe thead th {\n",
       "        text-align: right;\n",
       "    }\n",
       "</style>\n",
       "<table border=\"1\" class=\"dataframe\">\n",
       "  <thead>\n",
       "    <tr style=\"text-align: right;\">\n",
       "      <th></th>\n",
       "      <th>Año</th>\n",
       "      <th>Trimestre</th>\n",
       "      <th>Ingresos (miles de $)</th>\n",
       "    </tr>\n",
       "  </thead>\n",
       "  <tbody>\n",
       "    <tr>\n",
       "      <th>0</th>\n",
       "      <td>2014</td>\n",
       "      <td>1</td>\n",
       "      <td>2916071.75</td>\n",
       "    </tr>\n",
       "    <tr>\n",
       "      <th>1</th>\n",
       "      <td>2014</td>\n",
       "      <td>2</td>\n",
       "      <td>2974865.20</td>\n",
       "    </tr>\n",
       "    <tr>\n",
       "      <th>2</th>\n",
       "      <td>2014</td>\n",
       "      <td>3</td>\n",
       "      <td>3105462.02</td>\n",
       "    </tr>\n",
       "    <tr>\n",
       "      <th>3</th>\n",
       "      <td>2014</td>\n",
       "      <td>4</td>\n",
       "      <td>3339690.90</td>\n",
       "    </tr>\n",
       "    <tr>\n",
       "      <th>4</th>\n",
       "      <td>2015</td>\n",
       "      <td>1</td>\n",
       "      <td>3260124.75</td>\n",
       "    </tr>\n",
       "  </tbody>\n",
       "</table>\n",
       "</div>"
      ],
      "text/plain": [
       "    Año  Trimestre  Ingresos (miles de $)\n",
       "0  2014          1             2916071.75\n",
       "1  2014          2             2974865.20\n",
       "2  2014          3             3105462.02\n",
       "3  2014          4             3339690.90\n",
       "4  2015          1             3260124.75"
      ]
     },
     "execution_count": 87,
     "metadata": {},
     "output_type": "execute_result"
    }
   ],
   "source": [
    "n_fija_ingresos_trim.head()"
   ]
  },
  {
   "cell_type": "code",
   "execution_count": 88,
   "metadata": {},
   "outputs": [
    {
     "name": "stdout",
     "output_type": "stream",
     "text": [
      "<class 'pandas.core.frame.DataFrame'>\n",
      "RangeIndex: 33 entries, 0 to 32\n",
      "Data columns (total 4 columns):\n",
      " #   Column                                       Non-Null Count  Dtype \n",
      "---  ------                                       --------------  ----- \n",
      " 0   Año                                          33 non-null     int64 \n",
      " 1   Trimestre                                    33 non-null     int64 \n",
      " 2   Accesos telefonía fija por cada 100 hab      33 non-null     object\n",
      " 3   Accesos telefonía fija por cada 100 hogares  33 non-null     object\n",
      "dtypes: int64(2), object(2)\n",
      "memory usage: 1.2+ KB\n"
     ]
    }
   ],
   "source": [
    "n_fija_accesos_habitantes_trim.info()"
   ]
  },
  {
   "cell_type": "code",
   "execution_count": 89,
   "metadata": {},
   "outputs": [
    {
     "name": "stdout",
     "output_type": "stream",
     "text": [
      "Año                                              int64\n",
      "Trimestre                                        int64\n",
      "Accesos telefonía fija por cada 100 hab        float64\n",
      "Accesos telefonía fija por cada 100 hogares    float64\n",
      "dtype: object\n"
     ]
    }
   ],
   "source": [
    "# Eliminar las comas de las columnas\n",
    "n_fija_accesos_habitantes_trim['Accesos telefonía fija por cada 100 hab'] = n_fija_accesos_habitantes_trim['Accesos telefonía fija por cada 100 hab'].str.replace(',', '.')\n",
    "n_fija_accesos_habitantes_trim['Accesos telefonía fija por cada 100 hogares'] = n_fija_accesos_habitantes_trim['Accesos telefonía fija por cada 100 hogares'].str.replace(',', '.')\n",
    "\n",
    "# Convertir las columnas a tipo float\n",
    "n_fija_accesos_habitantes_trim['Accesos telefonía fija por cada 100 hab'] = n_fija_accesos_habitantes_trim['Accesos telefonía fija por cada 100 hab'].astype(float)\n",
    "n_fija_accesos_habitantes_trim['Accesos telefonía fija por cada 100 hogares'] = n_fija_accesos_habitantes_trim['Accesos telefonía fija por cada 100 hogares'].astype(float)\n",
    "\n",
    "# Verificar el DataFrame después de la conversión\n",
    "print(n_fija_accesos_habitantes_trim.dtypes)\n"
   ]
  },
  {
   "cell_type": "code",
   "execution_count": 90,
   "metadata": {},
   "outputs": [
    {
     "data": {
      "text/html": [
       "<div>\n",
       "<style scoped>\n",
       "    .dataframe tbody tr th:only-of-type {\n",
       "        vertical-align: middle;\n",
       "    }\n",
       "\n",
       "    .dataframe tbody tr th {\n",
       "        vertical-align: top;\n",
       "    }\n",
       "\n",
       "    .dataframe thead th {\n",
       "        text-align: right;\n",
       "    }\n",
       "</style>\n",
       "<table border=\"1\" class=\"dataframe\">\n",
       "  <thead>\n",
       "    <tr style=\"text-align: right;\">\n",
       "      <th></th>\n",
       "      <th>Año</th>\n",
       "      <th>Trimestre</th>\n",
       "      <th>Accesos telefonía fija por cada 100 hab</th>\n",
       "      <th>Accesos telefonía fija por cada 100 hogares</th>\n",
       "    </tr>\n",
       "  </thead>\n",
       "  <tbody>\n",
       "    <tr>\n",
       "      <th>0</th>\n",
       "      <td>2022</td>\n",
       "      <td>1</td>\n",
       "      <td>16.96</td>\n",
       "      <td>54.71</td>\n",
       "    </tr>\n",
       "    <tr>\n",
       "      <th>1</th>\n",
       "      <td>2021</td>\n",
       "      <td>4</td>\n",
       "      <td>16.74</td>\n",
       "      <td>53.88</td>\n",
       "    </tr>\n",
       "    <tr>\n",
       "      <th>2</th>\n",
       "      <td>2021</td>\n",
       "      <td>3</td>\n",
       "      <td>15.41</td>\n",
       "      <td>49.64</td>\n",
       "    </tr>\n",
       "    <tr>\n",
       "      <th>3</th>\n",
       "      <td>2021</td>\n",
       "      <td>2</td>\n",
       "      <td>15.62</td>\n",
       "      <td>50.35</td>\n",
       "    </tr>\n",
       "    <tr>\n",
       "      <th>4</th>\n",
       "      <td>2021</td>\n",
       "      <td>1</td>\n",
       "      <td>15.92</td>\n",
       "      <td>51.36</td>\n",
       "    </tr>\n",
       "  </tbody>\n",
       "</table>\n",
       "</div>"
      ],
      "text/plain": [
       "    Año  Trimestre  Accesos telefonía fija por cada 100 hab  \\\n",
       "0  2022          1                                    16.96   \n",
       "1  2021          4                                    16.74   \n",
       "2  2021          3                                    15.41   \n",
       "3  2021          2                                    15.62   \n",
       "4  2021          1                                    15.92   \n",
       "\n",
       "   Accesos telefonía fija por cada 100 hogares  \n",
       "0                                        54.71  \n",
       "1                                        53.88  \n",
       "2                                        49.64  \n",
       "3                                        50.35  \n",
       "4                                        51.36  "
      ]
     },
     "execution_count": 90,
     "metadata": {},
     "output_type": "execute_result"
    }
   ],
   "source": [
    "n_fija_accesos_habitantes_trim.head()"
   ]
  },
  {
   "cell_type": "code",
   "execution_count": 91,
   "metadata": {},
   "outputs": [
    {
     "name": "stdout",
     "output_type": "stream",
     "text": [
      "<class 'pandas.core.frame.DataFrame'>\n",
      "RangeIndex: 792 entries, 0 to 791\n",
      "Data columns (total 8 columns):\n",
      " #   Column                              Non-Null Count  Dtype  \n",
      "---  ------                              --------------  -----  \n",
      " 0   Año                                 792 non-null    int64  \n",
      " 1   Trimestre                           792 non-null    int64  \n",
      " 2   Provincia                           792 non-null    object \n",
      " 3   Accesos telefonía fija (total)      792 non-null    object \n",
      " 4   Accesos telefonía fija (hogares)    792 non-null    object \n",
      " 5   Accesos telefonía fija (comercial)  792 non-null    float64\n",
      " 6   Accesos telefonía fija (gobierno)   792 non-null    float64\n",
      " 7   Accesos telefonía fija (otros)      792 non-null    float64\n",
      "dtypes: float64(3), int64(2), object(3)\n",
      "memory usage: 49.6+ KB\n"
     ]
    }
   ],
   "source": [
    "p_fija_accesos_tipos_trim.info()"
   ]
  },
  {
   "cell_type": "code",
   "execution_count": 92,
   "metadata": {},
   "outputs": [],
   "source": [
    "# Eliminar puntos de las columnas\n",
    "p_fija_accesos_tipos_trim['Accesos telefonía fija (total)'] = p_fija_accesos_tipos_trim['Accesos telefonía fija (total)'].str.replace('.', '')\n",
    "p_fija_accesos_tipos_trim['Accesos telefonía fija (hogares)'] = p_fija_accesos_tipos_trim['Accesos telefonía fija (hogares)'].str.replace('.', '')\n",
    "\n"
   ]
  },
  {
   "cell_type": "code",
   "execution_count": 93,
   "metadata": {},
   "outputs": [
    {
     "name": "stdout",
     "output_type": "stream",
     "text": [
      "Año                                    int64\n",
      "Trimestre                              int64\n",
      "Provincia                             object\n",
      "Accesos telefonía fija (total)         int32\n",
      "Accesos telefonía fija (hogares)       int32\n",
      "Accesos telefonía fija (comercial)     int32\n",
      "Accesos telefonía fija (gobierno)      int32\n",
      "Accesos telefonía fija (otros)         int32\n",
      "dtype: object\n"
     ]
    }
   ],
   "source": [
    "# Convertir las columnas a tipo int\n",
    "p_fija_accesos_tipos_trim['Accesos telefonía fija (total)'] = p_fija_accesos_tipos_trim['Accesos telefonía fija (total)'].astype(int)\n",
    "p_fija_accesos_tipos_trim['Accesos telefonía fija (hogares)'] = p_fija_accesos_tipos_trim['Accesos telefonía fija (hogares)'].astype(int)\n",
    "\n",
    "p_fija_accesos_tipos_trim['Accesos telefonía fija (comercial)'] = p_fija_accesos_tipos_trim['Accesos telefonía fija (comercial)'].astype(int)\n",
    "p_fija_accesos_tipos_trim['Accesos telefonía fija (gobierno)'] = p_fija_accesos_tipos_trim['Accesos telefonía fija (gobierno)'].astype(int)\n",
    "p_fija_accesos_tipos_trim['Accesos telefonía fija (otros)'] = p_fija_accesos_tipos_trim['Accesos telefonía fija (otros)'].astype(int)\n",
    "\n",
    "# Verificar el DataFrame después de la conversión\n",
    "print(p_fija_accesos_tipos_trim.dtypes)\n"
   ]
  },
  {
   "cell_type": "code",
   "execution_count": 94,
   "metadata": {},
   "outputs": [
    {
     "data": {
      "text/html": [
       "<div>\n",
       "<style scoped>\n",
       "    .dataframe tbody tr th:only-of-type {\n",
       "        vertical-align: middle;\n",
       "    }\n",
       "\n",
       "    .dataframe tbody tr th {\n",
       "        vertical-align: top;\n",
       "    }\n",
       "\n",
       "    .dataframe thead th {\n",
       "        text-align: right;\n",
       "    }\n",
       "</style>\n",
       "<table border=\"1\" class=\"dataframe\">\n",
       "  <thead>\n",
       "    <tr style=\"text-align: right;\">\n",
       "      <th></th>\n",
       "      <th>Año</th>\n",
       "      <th>Trimestre</th>\n",
       "      <th>Provincia</th>\n",
       "      <th>Accesos telefonía fija (total)</th>\n",
       "      <th>Accesos telefonía fija (hogares)</th>\n",
       "      <th>Accesos telefonía fija (comercial)</th>\n",
       "      <th>Accesos telefonía fija (gobierno)</th>\n",
       "      <th>Accesos telefonía fija (otros)</th>\n",
       "    </tr>\n",
       "  </thead>\n",
       "  <tbody>\n",
       "    <tr>\n",
       "      <th>0</th>\n",
       "      <td>2022</td>\n",
       "      <td>1</td>\n",
       "      <td>Buenos Aires</td>\n",
       "      <td>3340707</td>\n",
       "      <td>3044152</td>\n",
       "      <td>230</td>\n",
       "      <td>14</td>\n",
       "      <td>50</td>\n",
       "    </tr>\n",
       "    <tr>\n",
       "      <th>1</th>\n",
       "      <td>2022</td>\n",
       "      <td>1</td>\n",
       "      <td>Capital Federal</td>\n",
       "      <td>1508031</td>\n",
       "      <td>1374162</td>\n",
       "      <td>104</td>\n",
       "      <td>6</td>\n",
       "      <td>22</td>\n",
       "    </tr>\n",
       "    <tr>\n",
       "      <th>2</th>\n",
       "      <td>2022</td>\n",
       "      <td>1</td>\n",
       "      <td>Catamarca</td>\n",
       "      <td>30167</td>\n",
       "      <td>27489</td>\n",
       "      <td>2</td>\n",
       "      <td>134</td>\n",
       "      <td>458</td>\n",
       "    </tr>\n",
       "    <tr>\n",
       "      <th>3</th>\n",
       "      <td>2022</td>\n",
       "      <td>1</td>\n",
       "      <td>Chaco</td>\n",
       "      <td>84847</td>\n",
       "      <td>77315</td>\n",
       "      <td>5</td>\n",
       "      <td>377</td>\n",
       "      <td>1</td>\n",
       "    </tr>\n",
       "    <tr>\n",
       "      <th>4</th>\n",
       "      <td>2022</td>\n",
       "      <td>1</td>\n",
       "      <td>Chubut</td>\n",
       "      <td>72602</td>\n",
       "      <td>66157</td>\n",
       "      <td>5</td>\n",
       "      <td>322</td>\n",
       "      <td>1</td>\n",
       "    </tr>\n",
       "  </tbody>\n",
       "</table>\n",
       "</div>"
      ],
      "text/plain": [
       "    Año  Trimestre        Provincia  Accesos telefonía fija (total)  \\\n",
       "0  2022          1     Buenos Aires                         3340707   \n",
       "1  2022          1  Capital Federal                         1508031   \n",
       "2  2022          1        Catamarca                           30167   \n",
       "3  2022          1            Chaco                           84847   \n",
       "4  2022          1           Chubut                           72602   \n",
       "\n",
       "   Accesos telefonía fija (hogares)  Accesos telefonía fija (comercial)  \\\n",
       "0                           3044152                                 230   \n",
       "1                           1374162                                 104   \n",
       "2                             27489                                   2   \n",
       "3                             77315                                   5   \n",
       "4                             66157                                   5   \n",
       "\n",
       "   Accesos telefonía fija (gobierno)  Accesos telefonía fija (otros)  \n",
       "0                                 14                              50  \n",
       "1                                  6                              22  \n",
       "2                                134                             458  \n",
       "3                                377                               1  \n",
       "4                                322                               1  "
      ]
     },
     "execution_count": 94,
     "metadata": {},
     "output_type": "execute_result"
    }
   ],
   "source": [
    "p_fija_accesos_tipos_trim.head()"
   ]
  },
  {
   "cell_type": "code",
   "execution_count": 95,
   "metadata": {},
   "outputs": [
    {
     "name": "stdout",
     "output_type": "stream",
     "text": [
      "<class 'pandas.core.frame.DataFrame'>\n",
      "RangeIndex: 792 entries, 0 to 791\n",
      "Data columns (total 5 columns):\n",
      " #   Column                                       Non-Null Count  Dtype \n",
      "---  ------                                       --------------  ----- \n",
      " 0   Año                                          792 non-null    int64 \n",
      " 1   Trimestre                                    792 non-null    int64 \n",
      " 2   Provincia                                    792 non-null    object\n",
      " 3   Accesos telefonía fija por cada 100 hab      792 non-null    object\n",
      " 4   Accesos telefonía fija por cada 100 hogares  792 non-null    object\n",
      "dtypes: int64(2), object(3)\n",
      "memory usage: 31.1+ KB\n"
     ]
    }
   ],
   "source": [
    "p_fija_accesos_habitantes_trim.info()"
   ]
  },
  {
   "cell_type": "code",
   "execution_count": 96,
   "metadata": {},
   "outputs": [],
   "source": [
    "\n",
    "# Eliminar comas de las columnas\n",
    "p_fija_accesos_habitantes_trim['Accesos telefonía fija por cada 100 hab'] = p_fija_accesos_habitantes_trim['Accesos telefonía fija por cada 100 hab'].str.replace(',', '.')\n",
    "p_fija_accesos_habitantes_trim['Accesos telefonía fija por cada 100 hogares'] = p_fija_accesos_habitantes_trim['Accesos telefonía fija por cada 100 hogares'].str.replace(',', '.')"
   ]
  },
  {
   "cell_type": "code",
   "execution_count": 97,
   "metadata": {},
   "outputs": [
    {
     "name": "stdout",
     "output_type": "stream",
     "text": [
      "Año                                              int64\n",
      "Trimestre                                        int64\n",
      "Provincia                                       object\n",
      "Accesos telefonía fija por cada 100 hab        float64\n",
      "Accesos telefonía fija por cada 100 hogares    float64\n",
      "dtype: object\n"
     ]
    }
   ],
   "source": [
    "# Convertir las columnas a tipo int\n",
    "p_fija_accesos_habitantes_trim['Accesos telefonía fija por cada 100 hab'] =p_fija_accesos_habitantes_trim['Accesos telefonía fija por cada 100 hab'].astype(float)\n",
    "p_fija_accesos_habitantes_trim['Accesos telefonía fija por cada 100 hogares'] = p_fija_accesos_habitantes_trim['Accesos telefonía fija por cada 100 hogares'].astype(float)\n",
    "\n",
    "\n",
    "# Verificar el DataFrame después de la conversión\n",
    "print(p_fija_accesos_habitantes_trim.dtypes)"
   ]
  },
  {
   "cell_type": "code",
   "execution_count": 98,
   "metadata": {},
   "outputs": [
    {
     "data": {
      "text/html": [
       "<div>\n",
       "<style scoped>\n",
       "    .dataframe tbody tr th:only-of-type {\n",
       "        vertical-align: middle;\n",
       "    }\n",
       "\n",
       "    .dataframe tbody tr th {\n",
       "        vertical-align: top;\n",
       "    }\n",
       "\n",
       "    .dataframe thead th {\n",
       "        text-align: right;\n",
       "    }\n",
       "</style>\n",
       "<table border=\"1\" class=\"dataframe\">\n",
       "  <thead>\n",
       "    <tr style=\"text-align: right;\">\n",
       "      <th></th>\n",
       "      <th>Año</th>\n",
       "      <th>Trimestre</th>\n",
       "      <th>Provincia</th>\n",
       "      <th>Accesos telefonía fija por cada 100 hab</th>\n",
       "      <th>Accesos telefonía fija por cada 100 hogares</th>\n",
       "    </tr>\n",
       "  </thead>\n",
       "  <tbody>\n",
       "    <tr>\n",
       "      <th>0</th>\n",
       "      <td>2014</td>\n",
       "      <td>1</td>\n",
       "      <td>Buenos Aires</td>\n",
       "      <td>26.72</td>\n",
       "      <td>85.26</td>\n",
       "    </tr>\n",
       "    <tr>\n",
       "      <th>1</th>\n",
       "      <td>2014</td>\n",
       "      <td>1</td>\n",
       "      <td>Capital Federal</td>\n",
       "      <td>52.66</td>\n",
       "      <td>128.57</td>\n",
       "    </tr>\n",
       "    <tr>\n",
       "      <th>2</th>\n",
       "      <td>2014</td>\n",
       "      <td>1</td>\n",
       "      <td>Catamarca</td>\n",
       "      <td>10.03</td>\n",
       "      <td>39.45</td>\n",
       "    </tr>\n",
       "    <tr>\n",
       "      <th>3</th>\n",
       "      <td>2014</td>\n",
       "      <td>1</td>\n",
       "      <td>Chaco</td>\n",
       "      <td>9.09</td>\n",
       "      <td>34.02</td>\n",
       "    </tr>\n",
       "    <tr>\n",
       "      <th>4</th>\n",
       "      <td>2014</td>\n",
       "      <td>1</td>\n",
       "      <td>Chubut</td>\n",
       "      <td>17.66</td>\n",
       "      <td>57.59</td>\n",
       "    </tr>\n",
       "  </tbody>\n",
       "</table>\n",
       "</div>"
      ],
      "text/plain": [
       "    Año  Trimestre        Provincia  Accesos telefonía fija por cada 100 hab  \\\n",
       "0  2014          1     Buenos Aires                                    26.72   \n",
       "1  2014          1  Capital Federal                                    52.66   \n",
       "2  2014          1        Catamarca                                    10.03   \n",
       "3  2014          1            Chaco                                     9.09   \n",
       "4  2014          1           Chubut                                    17.66   \n",
       "\n",
       "   Accesos telefonía fija por cada 100 hogares  \n",
       "0                                        85.26  \n",
       "1                                       128.57  \n",
       "2                                        39.45  \n",
       "3                                        34.02  \n",
       "4                                        57.59  "
      ]
     },
     "execution_count": 98,
     "metadata": {},
     "output_type": "execute_result"
    }
   ],
   "source": [
    "p_fija_accesos_habitantes_trim.head()"
   ]
  },
  {
   "cell_type": "markdown",
   "metadata": {},
   "source": [
    "## Transformación de datos Internet"
   ]
  },
  {
   "cell_type": "code",
   "execution_count": 99,
   "metadata": {},
   "outputs": [
    {
     "name": "stdout",
     "output_type": "stream",
     "text": [
      "<class 'pandas.core.frame.DataFrame'>\n",
      "RangeIndex: 33 entries, 0 to 32\n",
      "Data columns (total 4 columns):\n",
      " #   Column                     Non-Null Count  Dtype \n",
      "---  ------                     --------------  ----- \n",
      " 0   Año                        33 non-null     int64 \n",
      " 1   Trimestre                  33 non-null     int64 \n",
      " 2   Ingresos (miles de pesos)  33 non-null     object\n",
      " 3   Periodo                    33 non-null     object\n",
      "dtypes: int64(2), object(2)\n",
      "memory usage: 1.2+ KB\n"
     ]
    }
   ],
   "source": [
    "n_internet_ingresos_trim.info()"
   ]
  },
  {
   "cell_type": "code",
   "execution_count": 100,
   "metadata": {},
   "outputs": [],
   "source": [
    "#Eliminar los puntos de la columna Ingresos (miles de pesos)\n",
    "n_internet_ingresos_trim['Ingresos (miles de pesos)'] = n_internet_ingresos_trim['Ingresos (miles de pesos)'].str.replace('.', '')"
   ]
  },
  {
   "cell_type": "code",
   "execution_count": 101,
   "metadata": {},
   "outputs": [
    {
     "name": "stdout",
     "output_type": "stream",
     "text": [
      "Año                           int64\n",
      "Trimestre                     int64\n",
      "Ingresos (miles de pesos)     int32\n",
      "Periodo                      object\n",
      "dtype: object\n"
     ]
    }
   ],
   "source": [
    "# Convertir la columna \"Ingresos (miles de pesos)\" a tipo entero (int)\n",
    "n_internet_ingresos_trim['Ingresos (miles de pesos)'] = n_internet_ingresos_trim['Ingresos (miles de pesos)'].astype(int)\n",
    "# Verificar el DataFrame después de la conversión\n",
    "print(n_internet_ingresos_trim.dtypes)"
   ]
  },
  {
   "cell_type": "code",
   "execution_count": 102,
   "metadata": {},
   "outputs": [],
   "source": [
    "# Eliminar la columna \"periodo\"\n",
    "n_internet_ingresos_trim = n_internet_ingresos_trim.drop(columns=['Periodo'])"
   ]
  },
  {
   "cell_type": "code",
   "execution_count": 103,
   "metadata": {},
   "outputs": [
    {
     "data": {
      "text/html": [
       "<div>\n",
       "<style scoped>\n",
       "    .dataframe tbody tr th:only-of-type {\n",
       "        vertical-align: middle;\n",
       "    }\n",
       "\n",
       "    .dataframe tbody tr th {\n",
       "        vertical-align: top;\n",
       "    }\n",
       "\n",
       "    .dataframe thead th {\n",
       "        text-align: right;\n",
       "    }\n",
       "</style>\n",
       "<table border=\"1\" class=\"dataframe\">\n",
       "  <thead>\n",
       "    <tr style=\"text-align: right;\">\n",
       "      <th></th>\n",
       "      <th>Año</th>\n",
       "      <th>Trimestre</th>\n",
       "      <th>Ingresos (miles de pesos)</th>\n",
       "    </tr>\n",
       "  </thead>\n",
       "  <tbody>\n",
       "    <tr>\n",
       "      <th>0</th>\n",
       "      <td>2022</td>\n",
       "      <td>1</td>\n",
       "      <td>51432896</td>\n",
       "    </tr>\n",
       "    <tr>\n",
       "      <th>1</th>\n",
       "      <td>2021</td>\n",
       "      <td>4</td>\n",
       "      <td>45467887</td>\n",
       "    </tr>\n",
       "    <tr>\n",
       "      <th>2</th>\n",
       "      <td>2021</td>\n",
       "      <td>3</td>\n",
       "      <td>42999944</td>\n",
       "    </tr>\n",
       "    <tr>\n",
       "      <th>3</th>\n",
       "      <td>2021</td>\n",
       "      <td>2</td>\n",
       "      <td>38239667</td>\n",
       "    </tr>\n",
       "    <tr>\n",
       "      <th>4</th>\n",
       "      <td>2021</td>\n",
       "      <td>1</td>\n",
       "      <td>36676371</td>\n",
       "    </tr>\n",
       "  </tbody>\n",
       "</table>\n",
       "</div>"
      ],
      "text/plain": [
       "    Año  Trimestre  Ingresos (miles de pesos)\n",
       "0  2022          1                   51432896\n",
       "1  2021          4                   45467887\n",
       "2  2021          3                   42999944\n",
       "3  2021          2                   38239667\n",
       "4  2021          1                   36676371"
      ]
     },
     "execution_count": 103,
     "metadata": {},
     "output_type": "execute_result"
    }
   ],
   "source": [
    "n_internet_ingresos_trim.head()"
   ]
  },
  {
   "cell_type": "code",
   "execution_count": 104,
   "metadata": {},
   "outputs": [
    {
     "name": "stdout",
     "output_type": "stream",
     "text": [
      "<class 'pandas.core.frame.DataFrame'>\n",
      "RangeIndex: 33 entries, 0 to 32\n",
      "Data columns (total 9 columns):\n",
      " #   Column        Non-Null Count  Dtype  \n",
      "---  ------        --------------  -----  \n",
      " 0   Año           33 non-null     int64  \n",
      " 1   Trimestre     33 non-null     int64  \n",
      " 2   ADSL          33 non-null     object \n",
      " 3   Cablemodem    33 non-null     object \n",
      " 4   Fibra óptica  33 non-null     object \n",
      " 5   Wireless      33 non-null     float64\n",
      " 6   Otros         33 non-null     float64\n",
      " 7   Total         33 non-null     object \n",
      " 8   Periodo       33 non-null     object \n",
      "dtypes: float64(2), int64(2), object(5)\n",
      "memory usage: 2.4+ KB\n"
     ]
    }
   ],
   "source": [
    "n_internet_tipo_trim.info()"
   ]
  },
  {
   "cell_type": "code",
   "execution_count": 105,
   "metadata": {},
   "outputs": [],
   "source": [
    "#Eliminar los puntos \n",
    "n_internet_tipo_trim['ADSL'] = n_internet_tipo_trim['ADSL'].str.replace('.','')\n",
    "n_internet_tipo_trim['Cablemodem'] = n_internet_tipo_trim['Cablemodem'].str.replace('.','')\n",
    "n_internet_tipo_trim['Fibra óptica'] = n_internet_tipo_trim['Fibra óptica'].str.replace('.','')\n",
    "n_internet_tipo_trim['Total'] = n_internet_tipo_trim['Total'].str.replace('.','')\n",
    "\n",
    "n_internet_tipo_trim['Wireless'] = n_internet_tipo_trim['Wireless'].replace('.','')\n",
    "n_internet_tipo_trim['Otros'] = n_internet_tipo_trim['Otros'].replace('.','')\n"
   ]
  },
  {
   "cell_type": "code",
   "execution_count": 106,
   "metadata": {},
   "outputs": [
    {
     "name": "stdout",
     "output_type": "stream",
     "text": [
      "Año              int64\n",
      "Trimestre        int64\n",
      "ADSL             int32\n",
      "Cablemodem       int32\n",
      "Fibra óptica     int32\n",
      "Wireless         int32\n",
      "Otros            int32\n",
      "Total            int32\n",
      "Periodo         object\n",
      "dtype: object\n"
     ]
    }
   ],
   "source": [
    "#Convertir a tipo Int\n",
    "n_internet_tipo_trim['ADSL'] = n_internet_tipo_trim['ADSL'].astype(int)\n",
    "n_internet_tipo_trim['Cablemodem'] = n_internet_tipo_trim['Cablemodem'].astype(int)\n",
    "n_internet_tipo_trim['Fibra óptica'] = n_internet_tipo_trim['Fibra óptica'].astype(int)\n",
    "n_internet_tipo_trim['Total'] = n_internet_tipo_trim['Total'].astype(int)\n",
    "\n",
    "n_internet_tipo_trim['Wireless'] = n_internet_tipo_trim['Wireless'].astype(int)\n",
    "n_internet_tipo_trim['Otros'] = n_internet_tipo_trim['Otros'].astype(int)\n",
    "\n",
    "# Verificar el DataFrame después de la conversión\n",
    "print(n_internet_tipo_trim.dtypes)"
   ]
  },
  {
   "cell_type": "code",
   "execution_count": 107,
   "metadata": {},
   "outputs": [],
   "source": [
    "# Eliminar la columna \"periodo\"\n",
    "n_internet_tipo_trim = n_internet_tipo_trim.drop(columns=['Periodo'])"
   ]
  },
  {
   "cell_type": "code",
   "execution_count": 108,
   "metadata": {},
   "outputs": [
    {
     "data": {
      "text/html": [
       "<div>\n",
       "<style scoped>\n",
       "    .dataframe tbody tr th:only-of-type {\n",
       "        vertical-align: middle;\n",
       "    }\n",
       "\n",
       "    .dataframe tbody tr th {\n",
       "        vertical-align: top;\n",
       "    }\n",
       "\n",
       "    .dataframe thead th {\n",
       "        text-align: right;\n",
       "    }\n",
       "</style>\n",
       "<table border=\"1\" class=\"dataframe\">\n",
       "  <thead>\n",
       "    <tr style=\"text-align: right;\">\n",
       "      <th></th>\n",
       "      <th>Año</th>\n",
       "      <th>Trimestre</th>\n",
       "      <th>ADSL</th>\n",
       "      <th>Cablemodem</th>\n",
       "      <th>Fibra óptica</th>\n",
       "      <th>Wireless</th>\n",
       "      <th>Otros</th>\n",
       "      <th>Total</th>\n",
       "    </tr>\n",
       "  </thead>\n",
       "  <tbody>\n",
       "    <tr>\n",
       "      <th>0</th>\n",
       "      <td>2022</td>\n",
       "      <td>1</td>\n",
       "      <td>1533240</td>\n",
       "      <td>6073426</td>\n",
       "      <td>2219533</td>\n",
       "      <td>545</td>\n",
       "      <td>251</td>\n",
       "      <td>10624009</td>\n",
       "    </tr>\n",
       "    <tr>\n",
       "      <th>1</th>\n",
       "      <td>2021</td>\n",
       "      <td>4</td>\n",
       "      <td>1657615</td>\n",
       "      <td>5984240</td>\n",
       "      <td>2072236</td>\n",
       "      <td>523</td>\n",
       "      <td>252</td>\n",
       "      <td>10489794</td>\n",
       "    </tr>\n",
       "    <tr>\n",
       "      <th>2</th>\n",
       "      <td>2021</td>\n",
       "      <td>3</td>\n",
       "      <td>1950631</td>\n",
       "      <td>5826257</td>\n",
       "      <td>1566048</td>\n",
       "      <td>492</td>\n",
       "      <td>250</td>\n",
       "      <td>10085541</td>\n",
       "    </tr>\n",
       "    <tr>\n",
       "      <th>3</th>\n",
       "      <td>2021</td>\n",
       "      <td>2</td>\n",
       "      <td>2018587</td>\n",
       "      <td>5641731</td>\n",
       "      <td>1472246</td>\n",
       "      <td>476</td>\n",
       "      <td>253</td>\n",
       "      <td>9863084</td>\n",
       "    </tr>\n",
       "    <tr>\n",
       "      <th>4</th>\n",
       "      <td>2021</td>\n",
       "      <td>1</td>\n",
       "      <td>2175211</td>\n",
       "      <td>5424782</td>\n",
       "      <td>1362976</td>\n",
       "      <td>434</td>\n",
       "      <td>250</td>\n",
       "      <td>9647972</td>\n",
       "    </tr>\n",
       "  </tbody>\n",
       "</table>\n",
       "</div>"
      ],
      "text/plain": [
       "    Año  Trimestre     ADSL  Cablemodem  Fibra óptica  Wireless  Otros  \\\n",
       "0  2022          1  1533240     6073426       2219533       545    251   \n",
       "1  2021          4  1657615     5984240       2072236       523    252   \n",
       "2  2021          3  1950631     5826257       1566048       492    250   \n",
       "3  2021          2  2018587     5641731       1472246       476    253   \n",
       "4  2021          1  2175211     5424782       1362976       434    250   \n",
       "\n",
       "      Total  \n",
       "0  10624009  \n",
       "1  10489794  \n",
       "2  10085541  \n",
       "3   9863084  \n",
       "4   9647972  "
      ]
     },
     "execution_count": 108,
     "metadata": {},
     "output_type": "execute_result"
    }
   ],
   "source": [
    "n_internet_tipo_trim.head()"
   ]
  },
  {
   "cell_type": "code",
   "execution_count": 109,
   "metadata": {},
   "outputs": [
    {
     "name": "stdout",
     "output_type": "stream",
     "text": [
      "<class 'pandas.core.frame.DataFrame'>\n",
      "RangeIndex: 33 entries, 0 to 32\n",
      "Data columns (total 4 columns):\n",
      " #   Column                  Non-Null Count  Dtype \n",
      "---  ------                  --------------  ----- \n",
      " 0   Año                     33 non-null     int64 \n",
      " 1   Trimestre               33 non-null     int64 \n",
      " 2   Mbps (Media de bajada)  33 non-null     object\n",
      " 3   Trimestre.1             33 non-null     object\n",
      "dtypes: int64(2), object(2)\n",
      "memory usage: 1.2+ KB\n"
     ]
    }
   ],
   "source": [
    "n_internet_accesos_velocidadMedia_trim.info()"
   ]
  },
  {
   "cell_type": "code",
   "execution_count": 110,
   "metadata": {},
   "outputs": [],
   "source": [
    "#Cambiar coma a punto\n",
    "n_internet_accesos_velocidadMedia_trim['Mbps (Media de bajada)'] = n_internet_accesos_velocidadMedia_trim['Mbps (Media de bajada)'].str.replace(',','.')"
   ]
  },
  {
   "cell_type": "code",
   "execution_count": 111,
   "metadata": {},
   "outputs": [
    {
     "name": "stdout",
     "output_type": "stream",
     "text": [
      "Año                         int64\n",
      "Trimestre                   int64\n",
      "Mbps (Media de bajada)    float64\n",
      "Trimestre.1                object\n",
      "dtype: object\n"
     ]
    }
   ],
   "source": [
    "#Convertir a tipo float\n",
    "n_internet_accesos_velocidadMedia_trim['Mbps (Media de bajada)'] = n_internet_accesos_velocidadMedia_trim['Mbps (Media de bajada)'].astype(float)\n",
    "# Verificar el DataFrame después de la conversión\n",
    "print(n_internet_accesos_velocidadMedia_trim.dtypes)"
   ]
  },
  {
   "cell_type": "code",
   "execution_count": 112,
   "metadata": {},
   "outputs": [],
   "source": [
    "# Eliminar la columna Trimestre.1\n",
    "n_internet_accesos_velocidadMedia_trim.drop(columns=['Trimestre.1'], inplace=True)"
   ]
  },
  {
   "cell_type": "code",
   "execution_count": 113,
   "metadata": {},
   "outputs": [
    {
     "data": {
      "text/html": [
       "<div>\n",
       "<style scoped>\n",
       "    .dataframe tbody tr th:only-of-type {\n",
       "        vertical-align: middle;\n",
       "    }\n",
       "\n",
       "    .dataframe tbody tr th {\n",
       "        vertical-align: top;\n",
       "    }\n",
       "\n",
       "    .dataframe thead th {\n",
       "        text-align: right;\n",
       "    }\n",
       "</style>\n",
       "<table border=\"1\" class=\"dataframe\">\n",
       "  <thead>\n",
       "    <tr style=\"text-align: right;\">\n",
       "      <th></th>\n",
       "      <th>Año</th>\n",
       "      <th>Trimestre</th>\n",
       "      <th>Mbps (Media de bajada)</th>\n",
       "    </tr>\n",
       "  </thead>\n",
       "  <tbody>\n",
       "    <tr>\n",
       "      <th>0</th>\n",
       "      <td>2022</td>\n",
       "      <td>1</td>\n",
       "      <td>55.11</td>\n",
       "    </tr>\n",
       "    <tr>\n",
       "      <th>1</th>\n",
       "      <td>2021</td>\n",
       "      <td>4</td>\n",
       "      <td>52.34</td>\n",
       "    </tr>\n",
       "    <tr>\n",
       "      <th>2</th>\n",
       "      <td>2021</td>\n",
       "      <td>3</td>\n",
       "      <td>48.46</td>\n",
       "    </tr>\n",
       "    <tr>\n",
       "      <th>3</th>\n",
       "      <td>2021</td>\n",
       "      <td>2</td>\n",
       "      <td>45.63</td>\n",
       "    </tr>\n",
       "    <tr>\n",
       "      <th>4</th>\n",
       "      <td>2021</td>\n",
       "      <td>1</td>\n",
       "      <td>43.11</td>\n",
       "    </tr>\n",
       "  </tbody>\n",
       "</table>\n",
       "</div>"
      ],
      "text/plain": [
       "    Año  Trimestre  Mbps (Media de bajada)\n",
       "0  2022          1                   55.11\n",
       "1  2021          4                   52.34\n",
       "2  2021          3                   48.46\n",
       "3  2021          2                   45.63\n",
       "4  2021          1                   43.11"
      ]
     },
     "execution_count": 113,
     "metadata": {},
     "output_type": "execute_result"
    }
   ],
   "source": [
    "n_internet_accesos_velocidadMedia_trim.head()"
   ]
  },
  {
   "cell_type": "code",
   "execution_count": 114,
   "metadata": {},
   "outputs": [
    {
     "name": "stdout",
     "output_type": "stream",
     "text": [
      "<class 'pandas.core.frame.DataFrame'>\n",
      "RangeIndex: 793 entries, 0 to 792\n",
      "Data columns (total 9 columns):\n",
      " #   Column        Non-Null Count  Dtype  \n",
      "---  ------        --------------  -----  \n",
      " 0   Año           793 non-null    object \n",
      " 1   Trimestre     793 non-null    object \n",
      " 2   Provincia     792 non-null    object \n",
      " 3   ADSL          792 non-null    object \n",
      " 4   Cablemodem    792 non-null    object \n",
      " 5   Fibra óptica  792 non-null    object \n",
      " 6   Wireless      792 non-null    object \n",
      " 7   Otros         792 non-null    float64\n",
      " 8   Total         792 non-null    object \n",
      "dtypes: float64(1), object(8)\n",
      "memory usage: 55.9+ KB\n"
     ]
    }
   ],
   "source": [
    "p_internet_accesos_tecnologia_trim.info()"
   ]
  },
  {
   "cell_type": "code",
   "execution_count": 115,
   "metadata": {},
   "outputs": [],
   "source": [
    "#Eliminar los puntos \n",
    "p_internet_accesos_tecnologia_trim['ADSL'] = p_internet_accesos_tecnologia_trim['ADSL'].str.replace('.','')\n",
    "p_internet_accesos_tecnologia_trim['Cablemodem'] = p_internet_accesos_tecnologia_trim['Cablemodem'].str.replace('.','')\n",
    "p_internet_accesos_tecnologia_trim['Fibra óptica'] = p_internet_accesos_tecnologia_trim['Fibra óptica'].str.replace('.','')\n"
   ]
  },
  {
   "cell_type": "code",
   "execution_count": 116,
   "metadata": {},
   "outputs": [],
   "source": [
    "p_internet_accesos_tecnologia_trim['Wireless'] = p_internet_accesos_tecnologia_trim['Wireless'].replace('\\.', '', regex=True)\n",
    "p_internet_accesos_tecnologia_trim['Total'] = p_internet_accesos_tecnologia_trim['Total'].replace('\\.', '', regex=True)"
   ]
  },
  {
   "cell_type": "code",
   "execution_count": 117,
   "metadata": {},
   "outputs": [],
   "source": [
    "# Convertir la columna 'Otros' a tipo string (str)\n",
    "p_internet_accesos_tecnologia_trim['Otros'] = p_internet_accesos_tecnologia_trim['Otros'].astype(str)\n",
    "\n",
    "# Eliminar los puntos y las comas de la columna 'Otros'\n",
    "p_internet_accesos_tecnologia_trim['Otros'] = p_internet_accesos_tecnologia_trim['Otros'].str.replace('[,.]', '', regex=True)"
   ]
  },
  {
   "cell_type": "code",
   "execution_count": 119,
   "metadata": {},
   "outputs": [
    {
     "name": "stdout",
     "output_type": "stream",
     "text": [
      "Año             object\n",
      "Trimestre       object\n",
      "Provincia       object\n",
      "ADSL             int64\n",
      "Cablemodem       int64\n",
      "Fibra óptica     int64\n",
      "Wireless         int64\n",
      "Otros            int64\n",
      "Total            int64\n",
      "dtype: object\n"
     ]
    }
   ],
   "source": [
    "\n",
    "# Función para limpiar la cadena y convertirla a entero\n",
    "def limpiar_cadena(cadena):\n",
    "    # Reemplazar los caracteres no numéricos por una cadena vacía\n",
    "    cadena_limpia = ''.join(filter(str.isdigit, str(cadena)))\n",
    "    # Devolver el resultado convertido a entero\n",
    "    return int(cadena_limpia) if cadena_limpia else 0\n",
    "\n",
    "# Reemplazar valores no numéricos y NaN por 0 en las columnas antes de la conversión a tipo entero\n",
    "columnas_a_convertir = ['ADSL', 'Cablemodem', 'Fibra óptica', 'Total', 'Wireless', 'Otros']\n",
    "for columna in columnas_a_convertir:\n",
    "    p_internet_accesos_tecnologia_trim[columna] = p_internet_accesos_tecnologia_trim[columna].replace(['-', '- 0'], 0)\n",
    "    p_internet_accesos_tecnologia_trim[columna] = p_internet_accesos_tecnologia_trim[columna].apply(limpiar_cadena)\n",
    "\n",
    "\n",
    "# Verificar el DataFrame después de la conversión\n",
    "print(p_internet_accesos_tecnologia_trim.dtypes)\n",
    "\n"
   ]
  },
  {
   "cell_type": "code",
   "execution_count": 120,
   "metadata": {},
   "outputs": [
    {
     "name": "stdout",
     "output_type": "stream",
     "text": [
      "Año              int32\n",
      "Trimestre        int32\n",
      "Provincia       object\n",
      "ADSL             int64\n",
      "Cablemodem       int64\n",
      "Fibra óptica     int64\n",
      "Wireless         int64\n",
      "Otros            int64\n",
      "Total            int64\n",
      "dtype: object\n"
     ]
    }
   ],
   "source": [
    "\n",
    "# Función para limpiar la cadena y convertirla a entero\n",
    "def limpiar_cadena(cadena):\n",
    "    # Reemplazar los caracteres no numéricos por una cadena vacía\n",
    "    cadena_limpia = ''.join(filter(str.isdigit, str(cadena)))\n",
    "    # Devolver el resultado convertido a entero\n",
    "    return int(cadena_limpia) if cadena_limpia else 0\n",
    "\n",
    "# Limpiar valores en las columnas 'Año' y 'Trimestre'\n",
    "p_internet_accesos_tecnologia_trim['Año'] = p_internet_accesos_tecnologia_trim['Año'].apply(limpiar_cadena)\n",
    "p_internet_accesos_tecnologia_trim['Trimestre'] = p_internet_accesos_tecnologia_trim['Trimestre'].apply(limpiar_cadena)\n",
    "\n",
    "# Convertir las columnas a tipo entero (int)\n",
    "p_internet_accesos_tecnologia_trim['Año'] = p_internet_accesos_tecnologia_trim['Año'].astype(int)\n",
    "p_internet_accesos_tecnologia_trim['Trimestre'] = p_internet_accesos_tecnologia_trim['Trimestre'].astype(int)\n",
    "\n",
    "# Verificar el DataFrame después de la conversión\n",
    "print(p_internet_accesos_tecnologia_trim.dtypes)\n"
   ]
  },
  {
   "cell_type": "code",
   "execution_count": 121,
   "metadata": {},
   "outputs": [
    {
     "data": {
      "text/html": [
       "<div>\n",
       "<style scoped>\n",
       "    .dataframe tbody tr th:only-of-type {\n",
       "        vertical-align: middle;\n",
       "    }\n",
       "\n",
       "    .dataframe tbody tr th {\n",
       "        vertical-align: top;\n",
       "    }\n",
       "\n",
       "    .dataframe thead th {\n",
       "        text-align: right;\n",
       "    }\n",
       "</style>\n",
       "<table border=\"1\" class=\"dataframe\">\n",
       "  <thead>\n",
       "    <tr style=\"text-align: right;\">\n",
       "      <th></th>\n",
       "      <th>Año</th>\n",
       "      <th>Trimestre</th>\n",
       "      <th>Provincia</th>\n",
       "      <th>ADSL</th>\n",
       "      <th>Cablemodem</th>\n",
       "      <th>Fibra óptica</th>\n",
       "      <th>Wireless</th>\n",
       "      <th>Otros</th>\n",
       "      <th>Total</th>\n",
       "    </tr>\n",
       "  </thead>\n",
       "  <tbody>\n",
       "    <tr>\n",
       "      <th>0</th>\n",
       "      <td>2022</td>\n",
       "      <td>1</td>\n",
       "      <td>Buenos Aires</td>\n",
       "      <td>392045</td>\n",
       "      <td>2728865</td>\n",
       "      <td>1242121</td>\n",
       "      <td>125521</td>\n",
       "      <td>66872</td>\n",
       "      <td>4555424</td>\n",
       "    </tr>\n",
       "    <tr>\n",
       "      <th>1</th>\n",
       "      <td>2022</td>\n",
       "      <td>1</td>\n",
       "      <td>Capital Federal</td>\n",
       "      <td>102290</td>\n",
       "      <td>1217225</td>\n",
       "      <td>62308</td>\n",
       "      <td>5784</td>\n",
       "      <td>29934</td>\n",
       "      <td>1417541</td>\n",
       "    </tr>\n",
       "    <tr>\n",
       "      <th>2</th>\n",
       "      <td>2022</td>\n",
       "      <td>1</td>\n",
       "      <td>Catamarca</td>\n",
       "      <td>14181</td>\n",
       "      <td>15517</td>\n",
       "      <td>29118</td>\n",
       "      <td>1328</td>\n",
       "      <td>2234</td>\n",
       "      <td>62378</td>\n",
       "    </tr>\n",
       "    <tr>\n",
       "      <th>3</th>\n",
       "      <td>2022</td>\n",
       "      <td>1</td>\n",
       "      <td>Chaco</td>\n",
       "      <td>32391</td>\n",
       "      <td>64546</td>\n",
       "      <td>36662</td>\n",
       "      <td>8164</td>\n",
       "      <td>2356</td>\n",
       "      <td>144119</td>\n",
       "    </tr>\n",
       "    <tr>\n",
       "      <th>4</th>\n",
       "      <td>2022</td>\n",
       "      <td>1</td>\n",
       "      <td>Chubut</td>\n",
       "      <td>44133</td>\n",
       "      <td>66667</td>\n",
       "      <td>9184</td>\n",
       "      <td>30592</td>\n",
       "      <td>21052</td>\n",
       "      <td>171628</td>\n",
       "    </tr>\n",
       "  </tbody>\n",
       "</table>\n",
       "</div>"
      ],
      "text/plain": [
       "    Año  Trimestre        Provincia    ADSL  Cablemodem  Fibra óptica  \\\n",
       "0  2022          1     Buenos Aires  392045     2728865       1242121   \n",
       "1  2022          1  Capital Federal  102290     1217225         62308   \n",
       "2  2022          1        Catamarca   14181       15517         29118   \n",
       "3  2022          1            Chaco   32391       64546         36662   \n",
       "4  2022          1           Chubut   44133       66667          9184   \n",
       "\n",
       "   Wireless  Otros    Total  \n",
       "0    125521  66872  4555424  \n",
       "1      5784  29934  1417541  \n",
       "2      1328   2234    62378  \n",
       "3      8164   2356   144119  \n",
       "4     30592  21052   171628  "
      ]
     },
     "execution_count": 121,
     "metadata": {},
     "output_type": "execute_result"
    }
   ],
   "source": [
    "p_internet_accesos_tecnologia_trim.head()"
   ]
  },
  {
   "cell_type": "code",
   "execution_count": 122,
   "metadata": {},
   "outputs": [
    {
     "name": "stdout",
     "output_type": "stream",
     "text": [
      "<class 'pandas.core.frame.DataFrame'>\n",
      "RangeIndex: 792 entries, 0 to 791\n",
      "Data columns (total 4 columns):\n",
      " #   Column                        Non-Null Count  Dtype \n",
      "---  ------                        --------------  ----- \n",
      " 0   Año                           792 non-null    int64 \n",
      " 1   Trimestre                     792 non-null    int64 \n",
      " 2   Provincia                     792 non-null    object\n",
      " 3   Accesos por cada 100 hogares  792 non-null    object\n",
      "dtypes: int64(2), object(2)\n",
      "memory usage: 24.9+ KB\n"
     ]
    }
   ],
   "source": [
    "p_internet_accesos_habitantes_trim.info()"
   ]
  },
  {
   "cell_type": "code",
   "execution_count": 123,
   "metadata": {},
   "outputs": [],
   "source": [
    "#Cambiar coma a punto\n",
    "p_internet_accesos_habitantes_trim['Accesos por cada 100 hogares'] = p_internet_accesos_habitantes_trim['Accesos por cada 100 hogares'].str.replace(',','.')"
   ]
  },
  {
   "cell_type": "code",
   "execution_count": 124,
   "metadata": {},
   "outputs": [
    {
     "name": "stdout",
     "output_type": "stream",
     "text": [
      "Año                               int64\n",
      "Trimestre                         int64\n",
      "Provincia                        object\n",
      "Accesos por cada 100 hogares    float64\n",
      "dtype: object\n"
     ]
    }
   ],
   "source": [
    "#Convertir a tipo float\n",
    "p_internet_accesos_habitantes_trim['Accesos por cada 100 hogares'] = p_internet_accesos_habitantes_trim['Accesos por cada 100 hogares'].astype(float)\n",
    "# Verificar el DataFrame después de la conversión\n",
    "print(p_internet_accesos_habitantes_trim.dtypes)"
   ]
  },
  {
   "cell_type": "code",
   "execution_count": 125,
   "metadata": {},
   "outputs": [
    {
     "data": {
      "text/html": [
       "<div>\n",
       "<style scoped>\n",
       "    .dataframe tbody tr th:only-of-type {\n",
       "        vertical-align: middle;\n",
       "    }\n",
       "\n",
       "    .dataframe tbody tr th {\n",
       "        vertical-align: top;\n",
       "    }\n",
       "\n",
       "    .dataframe thead th {\n",
       "        text-align: right;\n",
       "    }\n",
       "</style>\n",
       "<table border=\"1\" class=\"dataframe\">\n",
       "  <thead>\n",
       "    <tr style=\"text-align: right;\">\n",
       "      <th></th>\n",
       "      <th>Año</th>\n",
       "      <th>Trimestre</th>\n",
       "      <th>Provincia</th>\n",
       "      <th>Accesos por cada 100 hogares</th>\n",
       "    </tr>\n",
       "  </thead>\n",
       "  <tbody>\n",
       "    <tr>\n",
       "      <th>0</th>\n",
       "      <td>2022</td>\n",
       "      <td>1</td>\n",
       "      <td>Buenos Aires</td>\n",
       "      <td>76.08</td>\n",
       "    </tr>\n",
       "    <tr>\n",
       "      <th>1</th>\n",
       "      <td>2022</td>\n",
       "      <td>1</td>\n",
       "      <td>Capital Federal</td>\n",
       "      <td>111.80</td>\n",
       "    </tr>\n",
       "    <tr>\n",
       "      <th>2</th>\n",
       "      <td>2022</td>\n",
       "      <td>1</td>\n",
       "      <td>Catamarca</td>\n",
       "      <td>58.21</td>\n",
       "    </tr>\n",
       "    <tr>\n",
       "      <th>3</th>\n",
       "      <td>2022</td>\n",
       "      <td>1</td>\n",
       "      <td>Chaco</td>\n",
       "      <td>44.06</td>\n",
       "    </tr>\n",
       "    <tr>\n",
       "      <th>4</th>\n",
       "      <td>2022</td>\n",
       "      <td>1</td>\n",
       "      <td>Chubut</td>\n",
       "      <td>88.05</td>\n",
       "    </tr>\n",
       "  </tbody>\n",
       "</table>\n",
       "</div>"
      ],
      "text/plain": [
       "    Año  Trimestre        Provincia  Accesos por cada 100 hogares\n",
       "0  2022          1     Buenos Aires                         76.08\n",
       "1  2022          1  Capital Federal                        111.80\n",
       "2  2022          1        Catamarca                         58.21\n",
       "3  2022          1            Chaco                         44.06\n",
       "4  2022          1           Chubut                         88.05"
      ]
     },
     "execution_count": 125,
     "metadata": {},
     "output_type": "execute_result"
    }
   ],
   "source": [
    "p_internet_accesos_habitantes_trim.head()"
   ]
  },
  {
   "cell_type": "code",
   "execution_count": 126,
   "metadata": {},
   "outputs": [
    {
     "name": "stdout",
     "output_type": "stream",
     "text": [
      "<class 'pandas.core.frame.DataFrame'>\n",
      "RangeIndex: 792 entries, 0 to 791\n",
      "Data columns (total 4 columns):\n",
      " #   Column                  Non-Null Count  Dtype \n",
      "---  ------                  --------------  ----- \n",
      " 0   Año                     792 non-null    int64 \n",
      " 1   Trimestre               792 non-null    int64 \n",
      " 2   Provincia               792 non-null    object\n",
      " 3   Mbps (Media de bajada)  792 non-null    int64 \n",
      "dtypes: int64(3), object(1)\n",
      "memory usage: 24.9+ KB\n"
     ]
    }
   ],
   "source": [
    "p_internet_accesos_velocidadMedia_trim.info()"
   ]
  },
  {
   "cell_type": "code",
   "execution_count": 127,
   "metadata": {},
   "outputs": [
    {
     "data": {
      "text/html": [
       "<div>\n",
       "<style scoped>\n",
       "    .dataframe tbody tr th:only-of-type {\n",
       "        vertical-align: middle;\n",
       "    }\n",
       "\n",
       "    .dataframe tbody tr th {\n",
       "        vertical-align: top;\n",
       "    }\n",
       "\n",
       "    .dataframe thead th {\n",
       "        text-align: right;\n",
       "    }\n",
       "</style>\n",
       "<table border=\"1\" class=\"dataframe\">\n",
       "  <thead>\n",
       "    <tr style=\"text-align: right;\">\n",
       "      <th></th>\n",
       "      <th>Año</th>\n",
       "      <th>Trimestre</th>\n",
       "      <th>Provincia</th>\n",
       "      <th>Mbps (Media de bajada)</th>\n",
       "    </tr>\n",
       "  </thead>\n",
       "  <tbody>\n",
       "    <tr>\n",
       "      <th>0</th>\n",
       "      <td>2022</td>\n",
       "      <td>1</td>\n",
       "      <td>Buenos Aires</td>\n",
       "      <td>63</td>\n",
       "    </tr>\n",
       "    <tr>\n",
       "      <th>1</th>\n",
       "      <td>2022</td>\n",
       "      <td>1</td>\n",
       "      <td>Capital Federal</td>\n",
       "      <td>88</td>\n",
       "    </tr>\n",
       "    <tr>\n",
       "      <th>2</th>\n",
       "      <td>2022</td>\n",
       "      <td>1</td>\n",
       "      <td>Catamarca</td>\n",
       "      <td>51</td>\n",
       "    </tr>\n",
       "    <tr>\n",
       "      <th>3</th>\n",
       "      <td>2022</td>\n",
       "      <td>1</td>\n",
       "      <td>Chaco</td>\n",
       "      <td>46</td>\n",
       "    </tr>\n",
       "    <tr>\n",
       "      <th>4</th>\n",
       "      <td>2022</td>\n",
       "      <td>1</td>\n",
       "      <td>Chubut</td>\n",
       "      <td>13</td>\n",
       "    </tr>\n",
       "  </tbody>\n",
       "</table>\n",
       "</div>"
      ],
      "text/plain": [
       "    Año  Trimestre        Provincia  Mbps (Media de bajada)\n",
       "0  2022          1     Buenos Aires                      63\n",
       "1  2022          1  Capital Federal                      88\n",
       "2  2022          1        Catamarca                      51\n",
       "3  2022          1            Chaco                      46\n",
       "4  2022          1           Chubut                      13"
      ]
     },
     "execution_count": 127,
     "metadata": {},
     "output_type": "execute_result"
    }
   ],
   "source": [
    "p_internet_accesos_velocidadMedia_trim.head()"
   ]
  },
  {
   "cell_type": "markdown",
   "metadata": {},
   "source": [
    "## Exportar los datos transformados a csv"
   ]
  },
  {
   "cell_type": "code",
   "execution_count": 132,
   "metadata": {},
   "outputs": [],
   "source": [
    "#Datos Telefonía móvil\n",
    "\n",
    "# Rutas específicas para guardar los archivos CSV\n",
    "ruta_archivo_ingresos = r\"C:\\Users\\pc\\Desktop\\Datasets\\Datasets transformados\\Ingresos_trimestrales_telefonía_móvil_transformado.csv\"\n",
    "ruta_archivo_accesos = r\"C:\\Users\\pc\\Desktop\\Datasets\\Datasets transformados\\Penetración_nacional_telefonía_móvil_transformado.csv\"\n",
    "ruta_archivo_altas = r\"C:\\Users\\pc\\Desktop\\Datasets\\Datasets transformados\\Portabilidad_altas_mensuales_por_operador_transformado.csv\"\n",
    "ruta_archivo_minutos = r\"C:\\Users\\pc\\Desktop\\Datasets\\Datasets transformados\\Trafico_suscriptores_telefonía_móvil_transformado.csv\"\n",
    "\n",
    "# Exportar cada DataFrame a su respectivo archivo CSV en las rutas específicas\n",
    "movil_ingresos_trim.to_csv(ruta_archivo_ingresos, index=False)\n",
    "movil_accesos_trim.to_csv(ruta_archivo_accesos, index=False)\n",
    "movil_altas_mens.to_csv(ruta_archivo_altas, index=False)\n",
    "movil_minutos_trim.to_csv(ruta_archivo_minutos, index=False)\n",
    "\n"
   ]
  },
  {
   "cell_type": "code",
   "execution_count": 133,
   "metadata": {},
   "outputs": [],
   "source": [
    "#Datos Telefonía Fija\n",
    "\n",
    "# Rutas específicas para guardar los archivos CSV de telefonía fija\n",
    "ruta_archivo_n_fija_ingresos_trim = r\"C:\\Users\\pc\\Desktop\\Datasets\\Datasets transformados\\Ingresos_trimestrales_telefonía_fija_transformado.csv\"\n",
    "ruta_archivo_n_fija_accesos_habitantes_trim = r\"C:\\Users\\pc\\Desktop\\Datasets\\Datasets transformados\\Penetración_total_nacional_telefonía_fija_por_trimestre_transformado.csv\"\n",
    "ruta_archivo_p_fija_accesos_tipos_trim = r\"C:\\Users\\pc\\Desktop\\Datasets\\Datasets transformados\\Accesos_telefonía_fija_por_provincia-hogares-comercios-gobierno-otros_transformado.csv\"\n",
    "ruta_archivo_p_fija_accesos_habitantes_trim = r\"C:\\Users\\pc\\Desktop\\Datasets\\Datasets transformados\\Penetración_provincial_telefonía_fija_accesos_cada_100_hogares_transformado.csv\"\n",
    "\n",
    "# Exportar cada DataFrame a su respectivo archivo CSV en las rutas específicas\n",
    "n_fija_ingresos_trim.to_csv(ruta_archivo_n_fija_ingresos_trim, index=False)\n",
    "n_fija_accesos_habitantes_trim.to_csv(ruta_archivo_n_fija_accesos_habitantes_trim, index=False)\n",
    "p_fija_accesos_tipos_trim.to_csv(ruta_archivo_p_fija_accesos_tipos_trim, index=False)\n",
    "p_fija_accesos_habitantes_trim.to_csv(ruta_archivo_p_fija_accesos_habitantes_trim, index=False)\n"
   ]
  },
  {
   "cell_type": "code",
   "execution_count": 134,
   "metadata": {},
   "outputs": [],
   "source": [
    "#Datos Internet\n",
    "\n",
    "# Rutas específicas para guardar los archivos CSV de Internet\n",
    "ruta_archivo_n_internet_ingresos_trim = r\"C:\\Users\\pc\\Desktop\\Datasets\\Datasets transformados\\Ingresos_trimestrales_prestación_servicio_Internet_fijo_transformado.csv\"\n",
    "ruta_archivo_n_internet_tipo_trim = r\"C:\\Users\\pc\\Desktop\\Datasets\\Datasets transformados\\Serie_trimestral_accesos_Internet_fijo_por_tecnología_transformado.csv\"\n",
    "ruta_archivo_n_internet_accesos_velocidadMedia_trim = r\"C:\\Users\\pc\\Desktop\\Datasets\\Datasets transformados\\Velocidad_Media_de_bajada_Internet_fijo_transformado.csv\"\n",
    "ruta_archivo_p_internet_accesos_tecnologia_trim = r\"C:\\Users\\pc\\Desktop\\Datasets\\Datasets transformados\\Acceso_Internet_fijo_por_tecnología_y_provincia_transformado.csv\"\n",
    "ruta_archivo_p_internet_accesos_habitantes_trim = r\"C:\\Users\\pc\\Desktop\\Datasets\\Datasets transformados\\Penetración_de _Internet_fijo_(accesos_cada_100_hogares)_transformado.csv\"\n",
    "ruta_archivo_p_internet_accesos_velocidadMedia_trim = r\"C:\\Users\\pc\\Desktop\\Datasets\\Datasets transformados\\Velocidad_media_bajada_Internet_fijo_por_provincia_transformado.csv\"\n",
    "\n",
    "# Exportar cada DataFrame a su respectivo archivo CSV en las rutas específicas\n",
    "n_internet_ingresos_trim.to_csv(ruta_archivo_n_internet_ingresos_trim, index=False)\n",
    "n_internet_tipo_trim.to_csv(ruta_archivo_n_internet_tipo_trim, index=False)\n",
    "n_internet_accesos_velocidadMedia_trim.to_csv(ruta_archivo_n_internet_accesos_velocidadMedia_trim, index=False)\n",
    "p_internet_accesos_tecnologia_trim.to_csv(ruta_archivo_p_internet_accesos_tecnologia_trim, index=False)\n",
    "p_internet_accesos_habitantes_trim.to_csv(ruta_archivo_p_internet_accesos_habitantes_trim, index=False)\n",
    "p_internet_accesos_velocidadMedia_trim.to_csv(ruta_archivo_p_internet_accesos_velocidadMedia_trim, index=False)\n"
   ]
  }
 ],
 "metadata": {
  "kernelspec": {
   "display_name": "Python 3",
   "language": "python",
   "name": "python3"
  },
  "language_info": {
   "codemirror_mode": {
    "name": "ipython",
    "version": 3
   },
   "file_extension": ".py",
   "mimetype": "text/x-python",
   "name": "python",
   "nbconvert_exporter": "python",
   "pygments_lexer": "ipython3",
   "version": "3.11.4"
  },
  "orig_nbformat": 4
 },
 "nbformat": 4,
 "nbformat_minor": 2
}
