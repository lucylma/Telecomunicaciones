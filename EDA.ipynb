{
 "cells": [
  {
   "cell_type": "code",
   "execution_count": 193,
   "metadata": {},
   "outputs": [],
   "source": [
    "# MANIPULACION DE LA DATA\n",
    "import numpy as np\n",
    "import pandas as pd\n",
    "pd.set_option(\"display.max_columns\", None) # MUESTRA TODAS LAS COLUNAS DE UN PANDAS DATAFRAME\n",
    "\n",
    "# VISUALIZACION DE DATOS\n",
    "import matplotlib.pyplot as plt\n",
    "import seaborn as sns\n",
    "\n",
    "# QUITAMOS LOS WARNINGS DE LAS SALIDAS DEL NOTEBOOK\n",
    "import warnings\n",
    "warnings.filterwarnings(\"ignore\")\n",
    "\n",
    "# ESTADISTICAS\n",
    "from statsmodels.graphics.gofplots import qqplot\n",
    "# Esta funcion compara la distribucion de la muestra con una distribucion normal, \n",
    "# para comprobar si tu muestra se distribuye normalmente o no."
   ]
  },
  {
   "cell_type": "markdown",
   "metadata": {},
   "source": [
    "## Carga de datasets"
   ]
  },
  {
   "cell_type": "code",
   "execution_count": 150,
   "metadata": {},
   "outputs": [],
   "source": [
    "#Data Telefonía Movil\n",
    "\n",
    "movil_ingresos_trim=pd.read_csv(r\"Datasets transformados\\Ingresos_trimestrales_telefonía_móvil_transformado.csv\")\n",
    "movil_accesos_trim=pd.read_csv(r\"\\Datasets transformados\\Penetración_nacional_telefonía_móvil_transformado.csv\")\n",
    "movil_altas_mens=pd.read_csv(r\"Datasets transformados\\Portabilidad_altas_mensuales_por_operador_transformado.csv\")\n",
    "movil_minutos_trim=pd.read_csv(r\"Datasets transformados\\Trafico_suscriptores_telefonía_móvil_transformado.csv\")"
   ]
  },
  {
   "cell_type": "code",
   "execution_count": 151,
   "metadata": {},
   "outputs": [],
   "source": [
    "#Data Telefonía Fija\n",
    "\n",
    "n_fija_ingresos_trim=pd.read_csv(r\"Datasets transformados\\Ingresos_trimestrales_telefonía_fija_transformado.csv\")\n",
    "n_fija_accesos_habitantes_trim=pd.read_csv(r\"Datasets transformados\\Penetración_total_nacional_telefonía_fija_por_trimestre_transformado.csv\")\n",
    "p_fija_accesos_tipos_trim=pd.read_csv(r\"Datasets transformados\\Accesos_telefonía_fija_por_provincia-hogares-comercios-gobierno-otros_transformado.csv\")\n",
    "p_fija_accesos_habitantes_trim=pd.read_csv(r\"Datasets transformados\\Penetración_provincial_telefonía_fija_accesos_cada_100_hogares_transformado.csv\")"
   ]
  },
  {
   "cell_type": "code",
   "execution_count": 209,
   "metadata": {},
   "outputs": [],
   "source": [
    "#Data Internet\n",
    "\n",
    "n_internet_ingresos_trim=pd.read_csv(r\"Datasets transformados\\Ingresos_trimestrales_prestación_servicio_Internet_fijo_transformado.csv\")\n",
    "n_internet_tipo_trim=pd.read_csv(r\"Datasets transformados\\Serie_trimestral_accesos_Internet_fijo_por_tecnología_transformado.csv\")\n",
    "n_internet_accesos_velocidadMedia_trim=pd.read_csv(r\"Datasets transformados\\Velocidad_Media_de_bajada_Internet_fijo_transformado.csv\")\n",
    "\n",
    "p_internet_accesos_tecnologia_trim=pd.read_csv(r\"Datasets transformados\\Acceso_Internet_fijo_por_tecnología_y_provincia_transformado.csv\")\n",
    "p_internet_accesos_habitantes_trim=pd.read_csv(r\"Datasets transformados\\Penetración_de _Internet_fijo_(accesos_cada_100_hogares)_transformado.csv\")\n",
    "p_internet_accesos_velocidadMedia_trim=pd.read_csv(r\"Datasets transformados\\Velocidad_media_bajada_Internet_fijo_por_provincia_transformado.csv\")\n"
   ]
  },
  {
   "cell_type": "markdown",
   "metadata": {},
   "source": [
    "## Información Básica"
   ]
  },
  {
   "cell_type": "markdown",
   "metadata": {},
   "source": [
    "### Telefonía Móvil"
   ]
  },
  {
   "cell_type": "code",
   "execution_count": 13,
   "metadata": {},
   "outputs": [
    {
     "name": "stdout",
     "output_type": "stream",
     "text": [
      "<class 'pandas.core.frame.DataFrame'>\n",
      "RangeIndex: 37 entries, 0 to 36\n",
      "Data columns (total 3 columns):\n",
      " #   Column                 Non-Null Count  Dtype\n",
      "---  ------                 --------------  -----\n",
      " 0   Año                    37 non-null     int64\n",
      " 1   Trimestre              37 non-null     int64\n",
      " 2   Ingresos (miles de $)  37 non-null     int64\n",
      "dtypes: int64(3)\n",
      "memory usage: 1020.0 bytes\n"
     ]
    }
   ],
   "source": [
    "movil_ingresos_trim.info()"
   ]
  },
  {
   "cell_type": "code",
   "execution_count": 29,
   "metadata": {},
   "outputs": [
    {
     "name": "stdout",
     "output_type": "stream",
     "text": [
      "Número de filas: 37\n",
      "Número de columnas: 3\n",
      "Número total de elementos: 111\n",
      "Años: [2013 2014 2015 2016 2017 2018 2019 2020 2021 2022]\n",
      "Número de trimestres por año:\n",
      "Año\n",
      "2013    4\n",
      "2014    4\n",
      "2015    4\n",
      "2016    4\n",
      "2017    4\n",
      "2018    4\n",
      "2019    4\n",
      "2020    4\n",
      "2021    4\n",
      "2022    1\n",
      "Name: Trimestre, dtype: int64\n"
     ]
    }
   ],
   "source": [
    "\n",
    "# Número de filas y columnas\n",
    "num_filas, num_columnas = movil_ingresos_trim.shape\n",
    "\n",
    "# Número total de elementos (celdas) en el DataFrame\n",
    "num_elementos = movil_ingresos_trim.size\n",
    "\n",
    "# Imprimir los resultados\n",
    "print(\"Número de filas:\", num_filas)\n",
    "print(\"Número de columnas:\", num_columnas)\n",
    "print(\"Número total de elementos:\", num_elementos)\n",
    "\n",
    "# Obtener los años únicos\n",
    "anios_diferentes = movil_ingresos_trim['Año'].unique()\n",
    "\n",
    "# Obtener el número de trimestres por cada año\n",
    "trimestres_por_anio = movil_ingresos_trim.groupby('Año')['Trimestre'].nunique()\n",
    "\n",
    "# Imprimir los resultados\n",
    "print(\"Años:\", anios_diferentes)\n",
    "print(\"Número de trimestres por año:\")\n",
    "print(trimestres_por_anio)\n"
   ]
  },
  {
   "cell_type": "markdown",
   "metadata": {},
   "source": [
    "> Podemos observar que tenemos los ingresos de los años 2013 al 2022 (en el 2022 solo tenemos el primer trimestre)"
   ]
  },
  {
   "cell_type": "code",
   "execution_count": 6,
   "metadata": {},
   "outputs": [
    {
     "name": "stdout",
     "output_type": "stream",
     "text": [
      "<class 'pandas.core.frame.DataFrame'>\n",
      "RangeIndex: 37 entries, 0 to 36\n",
      "Data columns (total 3 columns):\n",
      " #   Column                    Non-Null Count  Dtype\n",
      "---  ------                    --------------  -----\n",
      " 0   Año                       37 non-null     int64\n",
      " 1   Trimestre                 37 non-null     int64\n",
      " 2   Accesos por cada 100 hab  37 non-null     int64\n",
      "dtypes: int64(3)\n",
      "memory usage: 1020.0 bytes\n"
     ]
    }
   ],
   "source": [
    "movil_accesos_trim.info()"
   ]
  },
  {
   "cell_type": "code",
   "execution_count": 30,
   "metadata": {},
   "outputs": [
    {
     "name": "stdout",
     "output_type": "stream",
     "text": [
      "Número de filas: 37\n",
      "Número de columnas: 3\n",
      "Número total de elementos: 111\n",
      "Años: [2013 2014 2015 2016 2017 2018 2019 2020 2021 2022]\n",
      "Número de trimestres por año:\n",
      "Año\n",
      "2013    4\n",
      "2014    4\n",
      "2015    4\n",
      "2016    4\n",
      "2017    4\n",
      "2018    4\n",
      "2019    4\n",
      "2020    4\n",
      "2021    4\n",
      "2022    1\n",
      "Name: Trimestre, dtype: int64\n"
     ]
    }
   ],
   "source": [
    "# Número de filas y columnas\n",
    "num_filas, num_columnas = movil_accesos_trim.shape\n",
    "\n",
    "# Número total de elementos (celdas) en el DataFrame\n",
    "num_elementos = movil_accesos_trim.size\n",
    "\n",
    "# Imprimir los resultados\n",
    "print(\"Número de filas:\", num_filas)\n",
    "print(\"Número de columnas:\", num_columnas)\n",
    "print(\"Número total de elementos:\", num_elementos)\n",
    "\n",
    "# Obtener los años diferentes\n",
    "anios_diferentes = movil_accesos_trim['Año'].unique()\n",
    "\n",
    "# Obtener el número de trimestres por cada año\n",
    "trimestres_por_anio = movil_accesos_trim.groupby('Año')['Trimestre'].nunique()\n",
    "\n",
    "# Imprimir los resultados\n",
    "print(\"Años:\", anios_diferentes)\n",
    "print(\"Número de trimestres por año:\")\n",
    "print(trimestres_por_anio)\n",
    "\n",
    "\n"
   ]
  },
  {
   "cell_type": "markdown",
   "metadata": {},
   "source": [
    "> Podemos observar que tenemos el número de accesos a telefonía móvil de los años 2013 al 2022 (en el 2022 solo tenemos el primer trimestre)"
   ]
  },
  {
   "cell_type": "code",
   "execution_count": 14,
   "metadata": {},
   "outputs": [
    {
     "name": "stdout",
     "output_type": "stream",
     "text": [
      "<class 'pandas.core.frame.DataFrame'>\n",
      "RangeIndex: 120 entries, 0 to 119\n",
      "Data columns (total 7 columns):\n",
      " #   Column         Non-Null Count  Dtype\n",
      "---  ------         --------------  -----\n",
      " 0   Año            120 non-null    int64\n",
      " 1   Mes            120 non-null    int64\n",
      " 2   Personal       120 non-null    int64\n",
      " 3   Claro          120 non-null    int64\n",
      " 4   Nextel         120 non-null    int64\n",
      " 5   Movistar       120 non-null    int64\n",
      " 6   Total general  120 non-null    int64\n",
      "dtypes: int64(7)\n",
      "memory usage: 6.7 KB\n"
     ]
    }
   ],
   "source": [
    "movil_altas_mens.info()"
   ]
  },
  {
   "cell_type": "code",
   "execution_count": 31,
   "metadata": {},
   "outputs": [
    {
     "name": "stdout",
     "output_type": "stream",
     "text": [
      "Número de filas: 120\n",
      "Número de columnas: 7\n",
      "Número total de elementos: 840\n",
      "Años: [2022 2021 2020 2019 2018 2017 2016 2015 2014 2013 2012]\n",
      "eses por año:\n",
      "Año\n",
      "2012    10\n",
      "2013    12\n",
      "2014    12\n",
      "2015    12\n",
      "2016    12\n",
      "2017    12\n",
      "2018    12\n",
      "2019    12\n",
      "2020    12\n",
      "2021    12\n",
      "2022     2\n",
      "Name: Mes, dtype: int64\n"
     ]
    }
   ],
   "source": [
    "# Número de filas y columnas\n",
    "num_filas, num_columnas = movil_altas_mens.shape\n",
    "\n",
    "# Número total de elementos (celdas) en el DataFrame\n",
    "num_elementos = movil_altas_mens.size\n",
    "\n",
    "# Imprimir los resultados\n",
    "print(\"Número de filas:\", num_filas)\n",
    "print(\"Número de columnas:\", num_columnas)\n",
    "print(\"Número total de elementos:\", num_elementos)\n",
    "\n",
    "# Obtener los años únicos\n",
    "anios_diferentes = movil_altas_mens['Año'].unique()\n",
    "\n",
    "# Obtener el número total de meses por cada año\n",
    "meses_por_anio = movil_altas_mens.groupby('Año')['Mes'].nunique()\n",
    "\n",
    "# Imprimir los resultados\n",
    "print(\"Años:\", anios_diferentes)\n",
    "print(\"eses por año:\")\n",
    "print(meses_por_anio)\n"
   ]
  },
  {
   "cell_type": "markdown",
   "metadata": {},
   "source": [
    "> Podemos observar que tenemos el número de altas a telefonía móvil de los años 2013 al 2022 (en el 2022 solo tenemos los 2 primeros meses y en el 2012 solo tenemos 10 meses)"
   ]
  },
  {
   "cell_type": "code",
   "execution_count": 32,
   "metadata": {},
   "outputs": [
    {
     "name": "stdout",
     "output_type": "stream",
     "text": [
      "<class 'pandas.core.frame.DataFrame'>\n",
      "RangeIndex: 37 entries, 0 to 36\n",
      "Data columns (total 5 columns):\n",
      " #   Column                              Non-Null Count  Dtype\n",
      "---  ------                              --------------  -----\n",
      " 0   Año                                 37 non-null     int64\n",
      " 1   Trimestre                           37 non-null     int64\n",
      " 2   Minutos pospago salientes (miles)   37 non-null     int64\n",
      " 3   Minutos prepago salientes (miles)   37 non-null     int64\n",
      " 4   Total de minutos salientes (miles)  37 non-null     int64\n",
      "dtypes: int64(5)\n",
      "memory usage: 1.6 KB\n"
     ]
    }
   ],
   "source": [
    "movil_minutos_trim.info()"
   ]
  },
  {
   "cell_type": "code",
   "execution_count": 35,
   "metadata": {},
   "outputs": [
    {
     "name": "stdout",
     "output_type": "stream",
     "text": [
      "Número de filas: 37\n",
      "Número de columnas: 5\n",
      "Número total de elementos: 185\n",
      "Años: [2013 2014 2015 2016 2017 2018 2019 2020 2021 2022]\n",
      "Año\n",
      "2013    4\n",
      "2014    4\n",
      "2015    4\n",
      "2016    4\n",
      "2017    4\n",
      "2018    4\n",
      "2019    4\n",
      "2020    4\n",
      "2021    4\n",
      "2022    1\n",
      "Name: Trimestre, dtype: int64\n"
     ]
    }
   ],
   "source": [
    "# Número de filas y columnas\n",
    "num_filas, num_columnas = movil_minutos_trim.shape\n",
    "\n",
    "# Número total de elementos (celdas) en el DataFrame\n",
    "num_elementos = movil_minutos_trim.size\n",
    "\n",
    "# Imprimir los resultados\n",
    "print(\"Número de filas:\", num_filas)\n",
    "print(\"Número de columnas:\", num_columnas)\n",
    "print(\"Número total de elementos:\", num_elementos)\n",
    "\n",
    "# Obtener los años únicos\n",
    "anios_diferentes = movil_minutos_trim['Año'].unique()\n",
    "\n",
    "# Imprimir los resultados\n",
    "print(\"Años:\", anios_diferentes)\n",
    "\n",
    "# Obtener el número de trimestres por cada año\n",
    "trimestres_por_anio = movil_accesos_trim.groupby('Año')['Trimestre'].nunique()\n",
    "print(trimestres_por_anio)\n"
   ]
  },
  {
   "cell_type": "markdown",
   "metadata": {},
   "source": [
    "> Podemos observar que tenemos los minutos consumidos en telefonía móvil de los años 2013 al 2022 (en el 2022 solo tenemos el primer trimestre)"
   ]
  },
  {
   "cell_type": "markdown",
   "metadata": {},
   "source": [
    "### Telefonía Fija"
   ]
  },
  {
   "cell_type": "code",
   "execution_count": 48,
   "metadata": {},
   "outputs": [
    {
     "name": "stdout",
     "output_type": "stream",
     "text": [
      "<class 'pandas.core.frame.DataFrame'>\n",
      "RangeIndex: 33 entries, 0 to 32\n",
      "Data columns (total 3 columns):\n",
      " #   Column                 Non-Null Count  Dtype  \n",
      "---  ------                 --------------  -----  \n",
      " 0   Año                    33 non-null     int64  \n",
      " 1   Trimestre              33 non-null     int64  \n",
      " 2   Ingresos (miles de $)  33 non-null     float64\n",
      "dtypes: float64(1), int64(2)\n",
      "memory usage: 924.0 bytes\n"
     ]
    }
   ],
   "source": [
    "n_fija_ingresos_trim.info()"
   ]
  },
  {
   "cell_type": "code",
   "execution_count": 50,
   "metadata": {},
   "outputs": [
    {
     "name": "stdout",
     "output_type": "stream",
     "text": [
      "Número de filas: 33\n",
      "Número de columnas: 3\n",
      "Número total de elementos: 99\n",
      "Años: [2014 2015 2016 2017 2018 2019 2020 2021 2022]\n",
      "Número de trimestres por año:\n",
      "Año\n",
      "2014    4\n",
      "2015    4\n",
      "2016    4\n",
      "2017    4\n",
      "2018    4\n",
      "2019    4\n",
      "2020    4\n",
      "2021    4\n",
      "2022    1\n",
      "Name: Trimestre, dtype: int64\n"
     ]
    }
   ],
   "source": [
    "# Número de filas y columnas\n",
    "num_filas, num_columnas = n_fija_ingresos_trim.shape\n",
    "\n",
    "# Número total de elementos (celdas) en el DataFrame\n",
    "num_elementos = n_fija_ingresos_trim.size\n",
    "\n",
    "# Imprimir los resultados\n",
    "print(\"Número de filas:\", num_filas)\n",
    "print(\"Número de columnas:\", num_columnas)\n",
    "print(\"Número total de elementos:\", num_elementos)\n",
    "\n",
    "# Obtener los años únicos\n",
    "anios_diferentes = n_fija_ingresos_trim['Año'].unique()\n",
    "\n",
    "# Obtener el número de trimestres por cada año\n",
    "trimestres_por_anio = n_fija_ingresos_trim.groupby('Año')['Trimestre'].nunique()\n",
    "\n",
    "# Imprimir los resultados\n",
    "print(\"Años:\", anios_diferentes)\n",
    "print(\"Número de trimestres por año:\")\n",
    "print(trimestres_por_anio)\n"
   ]
  },
  {
   "cell_type": "markdown",
   "metadata": {},
   "source": [
    "> Podemos observar que tenemos los ingresos de los años 2014 al 2022 (en el 2022 solo tenemos el primer trimestre)"
   ]
  },
  {
   "cell_type": "code",
   "execution_count": 52,
   "metadata": {},
   "outputs": [
    {
     "name": "stdout",
     "output_type": "stream",
     "text": [
      "<class 'pandas.core.frame.DataFrame'>\n",
      "RangeIndex: 33 entries, 0 to 32\n",
      "Data columns (total 4 columns):\n",
      " #   Column                                       Non-Null Count  Dtype  \n",
      "---  ------                                       --------------  -----  \n",
      " 0   Año                                          33 non-null     int64  \n",
      " 1   Trimestre                                    33 non-null     int64  \n",
      " 2   Accesos telefonía fija por cada 100 hab      33 non-null     float64\n",
      " 3   Accesos telefonía fija por cada 100 hogares  33 non-null     float64\n",
      "dtypes: float64(2), int64(2)\n",
      "memory usage: 1.2 KB\n"
     ]
    }
   ],
   "source": [
    "n_fija_accesos_habitantes_trim.info()"
   ]
  },
  {
   "cell_type": "code",
   "execution_count": 54,
   "metadata": {},
   "outputs": [
    {
     "name": "stdout",
     "output_type": "stream",
     "text": [
      "Número de filas: 33\n",
      "Número de columnas: 4\n",
      "Número total de elementos: 132\n",
      "Años: [2022 2021 2020 2019 2018 2017 2016 2015 2014]\n",
      "Número de trimestres por año:\n",
      "Año\n",
      "2014    4\n",
      "2015    4\n",
      "2016    4\n",
      "2017    4\n",
      "2018    4\n",
      "2019    4\n",
      "2020    4\n",
      "2021    4\n",
      "2022    1\n",
      "Name: Trimestre, dtype: int64\n"
     ]
    }
   ],
   "source": [
    "# Número de filas y columnas\n",
    "num_filas, num_columnas = n_fija_accesos_habitantes_trim.shape\n",
    "\n",
    "# Número total de elementos (celdas) en el DataFrame\n",
    "num_elementos = n_fija_accesos_habitantes_trim.size\n",
    "\n",
    "# Imprimir los resultados\n",
    "print(\"Número de filas:\", num_filas)\n",
    "print(\"Número de columnas:\", num_columnas)\n",
    "print(\"Número total de elementos:\", num_elementos)\n",
    "\n",
    "# Obtener los años diferentes\n",
    "anios_diferentes = n_fija_accesos_habitantes_trim['Año'].unique()\n",
    "\n",
    "# Obtener el número de trimestres por cada año\n",
    "trimestres_por_anio = n_fija_accesos_habitantes_trim.groupby('Año')['Trimestre'].nunique()\n",
    "\n",
    "# Imprimir los resultados\n",
    "print(\"Años:\", anios_diferentes)\n",
    "print(\"Número de trimestres por año:\")\n",
    "print(trimestres_por_anio)"
   ]
  },
  {
   "cell_type": "markdown",
   "metadata": {},
   "source": [
    "> Podemos observar que tenemos el número de accesos a telefonía móvil de los años 2014 al 2022 (en el 2022 solo tenemos el primer trimestre)"
   ]
  },
  {
   "cell_type": "code",
   "execution_count": 55,
   "metadata": {},
   "outputs": [
    {
     "name": "stdout",
     "output_type": "stream",
     "text": [
      "<class 'pandas.core.frame.DataFrame'>\n",
      "RangeIndex: 792 entries, 0 to 791\n",
      "Data columns (total 8 columns):\n",
      " #   Column                              Non-Null Count  Dtype \n",
      "---  ------                              --------------  ----- \n",
      " 0   Año                                 792 non-null    int64 \n",
      " 1   Trimestre                           792 non-null    int64 \n",
      " 2   Provincia                           792 non-null    object\n",
      " 3   Accesos telefonía fija (total)      792 non-null    int64 \n",
      " 4   Accesos telefonía fija (hogares)    792 non-null    int64 \n",
      " 5   Accesos telefonía fija (comercial)  792 non-null    int64 \n",
      " 6   Accesos telefonía fija (gobierno)   792 non-null    int64 \n",
      " 7   Accesos telefonía fija (otros)      792 non-null    int64 \n",
      "dtypes: int64(7), object(1)\n",
      "memory usage: 49.6+ KB\n"
     ]
    }
   ],
   "source": [
    "p_fija_accesos_tipos_trim.info()"
   ]
  },
  {
   "cell_type": "code",
   "execution_count": 80,
   "metadata": {},
   "outputs": [
    {
     "name": "stdout",
     "output_type": "stream",
     "text": [
      "Número de filas: 792\n",
      "Número de columnas: 8\n",
      "Número total de elementos: 6336\n",
      "Años: [2022 2021 2020 2019 2018 2017 2016 2015 2014]\n",
      "Cantidad de provincias: 24\n",
      "Número de trimestres por año:\n",
      "Año\n",
      "2014    4\n",
      "2015    4\n",
      "2016    4\n",
      "2017    4\n",
      "2018    4\n",
      "2019    4\n",
      "2020    4\n",
      "2021    4\n",
      "2022    1\n",
      "Name: Trimestre, dtype: int64\n"
     ]
    }
   ],
   "source": [
    "# Número de filas y columnas\n",
    "num_filas, num_columnas = p_fija_accesos_tipos_trim.shape\n",
    "\n",
    "# Número total de elementos (celdas) en el DataFrame\n",
    "num_elementos = p_fija_accesos_tipos_trim.size\n",
    "\n",
    "# Imprimir los resultados\n",
    "print(\"Número de filas:\", num_filas)\n",
    "print(\"Número de columnas:\", num_columnas)\n",
    "print(\"Número total de elementos:\", num_elementos)\n",
    "\n",
    "# Obtener los años únicos\n",
    "anios_diferentes = p_fija_accesos_tipos_trim['Año'].unique()\n",
    "\n",
    "# Obtener las provincia únicas\n",
    "provincias_unicas = p_fija_accesos_tipos_trim['Provincia'].nunique()\n",
    "\n",
    "# Obtener el número de trimestres por cada año\n",
    "trimestres_por_anio = p_fija_accesos_tipos_trim.groupby('Año')['Trimestre'].nunique()\n",
    "\n",
    "# Imprimir los resultados\n",
    "print(\"Años:\", anios_diferentes)\n",
    "print(\"Cantidad de provincias:\", provincias_unicas)\n",
    "print(\"Número de trimestres por año:\")\n",
    "print(trimestres_por_anio)"
   ]
  },
  {
   "cell_type": "markdown",
   "metadata": {},
   "source": [
    "> Podemos observar que tenemos el número de accesos a telefonía móvil de los años 2014 al 2022 (en el 2022 solo tenemos el primer trimestre) y se tienen datos de 24 provincias de Argentina"
   ]
  },
  {
   "cell_type": "code",
   "execution_count": 81,
   "metadata": {},
   "outputs": [
    {
     "name": "stdout",
     "output_type": "stream",
     "text": [
      "Número de filas: 792\n",
      "Número de columnas: 5\n",
      "Número total de elementos: 3960\n",
      "Años: [2014 2015 2016 2017 2018 2019 2020 2021 2022]\n",
      "Cantidad de provincias: 24\n",
      "Número de trimestres por año:\n",
      "Año\n",
      "2014    4\n",
      "2015    4\n",
      "2016    4\n",
      "2017    4\n",
      "2018    4\n",
      "2019    4\n",
      "2020    4\n",
      "2021    4\n",
      "2022    1\n",
      "Name: Trimestre, dtype: int64\n"
     ]
    }
   ],
   "source": [
    "# Número de filas y columnas\n",
    "num_filas, num_columnas = p_fija_accesos_habitantes_trim.shape\n",
    "\n",
    "# Número total de elementos (celdas) en el DataFrame\n",
    "num_elementos = p_fija_accesos_habitantes_trim.size\n",
    "\n",
    "# Imprimir los resultados\n",
    "print(\"Número de filas:\", num_filas)\n",
    "print(\"Número de columnas:\", num_columnas)\n",
    "print(\"Número total de elementos:\", num_elementos)\n",
    "\n",
    "# Obtener los años únicos\n",
    "anios_diferentes = p_fija_accesos_habitantes_trim['Año'].unique()\n",
    "\n",
    "# Obtener las provincia únicas\n",
    "provincias_unicas = p_fija_accesos_habitantes_trim['Provincia'].nunique()\n",
    "\n",
    "# Obtener el número de trimestres por cada año\n",
    "trimestres_por_anio = p_fija_accesos_habitantes_trim.groupby('Año')['Trimestre'].nunique()\n",
    "\n",
    "# Imprimir los resultados\n",
    "print(\"Años:\", anios_diferentes)\n",
    "print(\"Cantidad de provincias:\", provincias_unicas)\n",
    "print(\"Número de trimestres por año:\")\n",
    "print(trimestres_por_anio)"
   ]
  },
  {
   "cell_type": "markdown",
   "metadata": {},
   "source": [
    "> Podemos observar que tenemos el número de accesos a telefonía móvil de los años 2014 al 2022 (en el 2022 solo tenemos el primer trimestre) y se tienen datos de 24 provincias de Argentina"
   ]
  },
  {
   "cell_type": "markdown",
   "metadata": {},
   "source": [
    "### Internet "
   ]
  },
  {
   "cell_type": "code",
   "execution_count": 90,
   "metadata": {},
   "outputs": [
    {
     "name": "stdout",
     "output_type": "stream",
     "text": [
      "<class 'pandas.core.frame.DataFrame'>\n",
      "RangeIndex: 33 entries, 0 to 32\n",
      "Data columns (total 3 columns):\n",
      " #   Column                     Non-Null Count  Dtype\n",
      "---  ------                     --------------  -----\n",
      " 0   Año                        33 non-null     int64\n",
      " 1   Trimestre                  33 non-null     int64\n",
      " 2   Ingresos (miles de pesos)  33 non-null     int64\n",
      "dtypes: int64(3)\n",
      "memory usage: 924.0 bytes\n"
     ]
    }
   ],
   "source": [
    "n_internet_ingresos_trim.info()"
   ]
  },
  {
   "cell_type": "code",
   "execution_count": 91,
   "metadata": {},
   "outputs": [
    {
     "name": "stdout",
     "output_type": "stream",
     "text": [
      "Número de filas: 33\n",
      "Número de columnas: 3\n",
      "Número total de elementos: 99\n",
      "Años: [2022 2021 2020 2019 2018 2017 2016 2015 2014]\n",
      "Número de trimestres por año:\n",
      "Año\n",
      "2014    4\n",
      "2015    4\n",
      "2016    4\n",
      "2017    4\n",
      "2018    4\n",
      "2019    4\n",
      "2020    4\n",
      "2021    4\n",
      "2022    1\n",
      "Name: Trimestre, dtype: int64\n"
     ]
    }
   ],
   "source": [
    "# Número de filas y columnas\n",
    "num_filas, num_columnas = n_internet_ingresos_trim.shape\n",
    "\n",
    "# Número total de elementos (celdas) en el DataFrame\n",
    "num_elementos = n_internet_ingresos_trim.size\n",
    "\n",
    "# Imprimir los resultados\n",
    "print(\"Número de filas:\", num_filas)\n",
    "print(\"Número de columnas:\", num_columnas)\n",
    "print(\"Número total de elementos:\", num_elementos)\n",
    "\n",
    "# Obtener los años únicos\n",
    "anios_diferentes = n_internet_ingresos_trim['Año'].unique()\n",
    "\n",
    "# Obtener el número de trimestres por cada año\n",
    "trimestres_por_anio = n_internet_ingresos_trim.groupby('Año')['Trimestre'].nunique()\n",
    "\n",
    "# Imprimir los resultados\n",
    "print(\"Años:\", anios_diferentes)\n",
    "print(\"Número de trimestres por año:\")\n",
    "print(trimestres_por_anio)"
   ]
  },
  {
   "cell_type": "markdown",
   "metadata": {},
   "source": [
    "> Podemos observar que tenemos los ingresos de los años 2014 al 2022 (en el 2022 solo tenemos el primer trimestre)"
   ]
  },
  {
   "cell_type": "code",
   "execution_count": 99,
   "metadata": {},
   "outputs": [
    {
     "name": "stdout",
     "output_type": "stream",
     "text": [
      "Número de filas: 33\n",
      "Número de columnas: 8\n",
      "Número total de elementos: 264\n",
      "Años: [2022 2021 2020 2019 2018 2017 2016 2015 2014]\n",
      "Número de trimestres por año:\n",
      "Año\n",
      "2014    4\n",
      "2015    4\n",
      "2016    4\n",
      "2017    4\n",
      "2018    4\n",
      "2019    4\n",
      "2020    4\n",
      "2021    4\n",
      "2022    1\n",
      "Name: Trimestre, dtype: int64\n"
     ]
    }
   ],
   "source": [
    "# Número de filas y columnas\n",
    "num_filas, num_columnas = n_internet_tipo_trim.shape\n",
    "\n",
    "# Número total de elementos (celdas) en el DataFrame\n",
    "num_elementos = n_internet_tipo_trim.size\n",
    "\n",
    "# Imprimir los resultados\n",
    "print(\"Número de filas:\", num_filas)\n",
    "print(\"Número de columnas:\", num_columnas)\n",
    "print(\"Número total de elementos:\", num_elementos)\n",
    "\n",
    "# Obtener los años únicos\n",
    "anios_diferentes = n_internet_tipo_trim['Año'].unique()\n",
    "\n",
    "# Obtener el número de trimestres por cada año\n",
    "trimestres_por_anio = n_internet_tipo_trim.groupby('Año')['Trimestre'].nunique()\n",
    "\n",
    "# Imprimir los resultados\n",
    "print(\"Años:\", anios_diferentes)\n",
    "print(\"Número de trimestres por año:\")\n",
    "print(trimestres_por_anio)"
   ]
  },
  {
   "cell_type": "markdown",
   "metadata": {},
   "source": [
    "> Podemos observar que tenemos el número de accesos a telefonía móvil de los años 2014 al 2022 (en el 2022 solo tenemos el primer trimestre)"
   ]
  },
  {
   "cell_type": "code",
   "execution_count": 126,
   "metadata": {},
   "outputs": [
    {
     "name": "stdout",
     "output_type": "stream",
     "text": [
      "<class 'pandas.core.frame.DataFrame'>\n",
      "RangeIndex: 33 entries, 0 to 32\n",
      "Data columns (total 3 columns):\n",
      " #   Column                  Non-Null Count  Dtype  \n",
      "---  ------                  --------------  -----  \n",
      " 0   Año                     33 non-null     int64  \n",
      " 1   Trimestre               33 non-null     int64  \n",
      " 2   Mbps (Media de bajada)  33 non-null     float64\n",
      "dtypes: float64(1), int64(2)\n",
      "memory usage: 924.0 bytes\n"
     ]
    }
   ],
   "source": [
    "n_internet_accesos_velocidadMedia_trim.info()"
   ]
  },
  {
   "cell_type": "code",
   "execution_count": 128,
   "metadata": {},
   "outputs": [
    {
     "name": "stdout",
     "output_type": "stream",
     "text": [
      "Número de filas: 33\n",
      "Número de columnas: 3\n",
      "Número total de elementos: 99\n",
      "Años: [2022 2021 2020 2019 2018 2017 2016 2015 2014]\n",
      "Número de trimestres por año:\n",
      "Año\n",
      "2014    4\n",
      "2015    4\n",
      "2016    4\n",
      "2017    4\n",
      "2018    4\n",
      "2019    4\n",
      "2020    4\n",
      "2021    4\n",
      "2022    1\n",
      "Name: Trimestre, dtype: int64\n"
     ]
    }
   ],
   "source": [
    "# Número de filas y columnas\n",
    "num_filas, num_columnas = n_internet_accesos_velocidadMedia_trim.shape\n",
    "\n",
    "# Número total de elementos (celdas) en el DataFrame\n",
    "num_elementos = n_internet_accesos_velocidadMedia_trim.size\n",
    "\n",
    "# Imprimir los resultados\n",
    "print(\"Número de filas:\", num_filas)\n",
    "print(\"Número de columnas:\", num_columnas)\n",
    "print(\"Número total de elementos:\", num_elementos)\n",
    "\n",
    "# Obtener los años únicos\n",
    "anios_diferentes = n_internet_accesos_velocidadMedia_trim['Año'].unique()\n",
    "\n",
    "# Obtener el número de trimestres por cada año\n",
    "trimestres_por_anio = n_internet_accesos_velocidadMedia_trim.groupby('Año')['Trimestre'].nunique()\n",
    "\n",
    "# Imprimir los resultados\n",
    "print(\"Años:\", anios_diferentes)\n",
    "print(\"Número de trimestres por año:\")\n",
    "print(trimestres_por_anio)"
   ]
  },
  {
   "cell_type": "markdown",
   "metadata": {},
   "source": [
    "> Podemos observar que tenemos el número de accesos a telefonía móvil de los años 2014 al 2022 (en el 2022 solo tenemos el primer trimestre)"
   ]
  },
  {
   "cell_type": "code",
   "execution_count": 140,
   "metadata": {},
   "outputs": [
    {
     "name": "stdout",
     "output_type": "stream",
     "text": [
      "<class 'pandas.core.frame.DataFrame'>\n",
      "RangeIndex: 793 entries, 0 to 792\n",
      "Data columns (total 9 columns):\n",
      " #   Column        Non-Null Count  Dtype \n",
      "---  ------        --------------  ----- \n",
      " 0   Año           793 non-null    int64 \n",
      " 1   Trimestre     793 non-null    int64 \n",
      " 2   Provincia     792 non-null    object\n",
      " 3   ADSL          793 non-null    int64 \n",
      " 4   Cablemodem    793 non-null    int64 \n",
      " 5   Fibra óptica  793 non-null    int64 \n",
      " 6   Wireless      793 non-null    int64 \n",
      " 7   Otros         793 non-null    int64 \n",
      " 8   Total         793 non-null    int64 \n",
      "dtypes: int64(8), object(1)\n",
      "memory usage: 55.9+ KB\n"
     ]
    }
   ],
   "source": [
    "p_internet_accesos_tecnologia_trim.info()"
   ]
  },
  {
   "cell_type": "code",
   "execution_count": 142,
   "metadata": {},
   "outputs": [
    {
     "name": "stdout",
     "output_type": "stream",
     "text": [
      "Número de filas: 793\n",
      "Número de columnas: 9\n",
      "Número total de elementos: 7137\n",
      "Años: [2022 2021 2020 2019 2018 2017 2016 2015 2014    0]\n",
      "Cantidad de provincias: 24\n",
      "Número de trimestres por año:\n",
      "Año\n",
      "0       1\n",
      "2014    4\n",
      "2015    4\n",
      "2016    4\n",
      "2017    4\n",
      "2018    4\n",
      "2019    4\n",
      "2020    4\n",
      "2021    4\n",
      "2022    1\n",
      "Name: Trimestre, dtype: int64\n"
     ]
    }
   ],
   "source": [
    "\n",
    "# Número de filas y columnas\n",
    "num_filas, num_columnas = p_internet_accesos_tecnologia_trim.shape\n",
    "\n",
    "# Número total de elementos (celdas) en el DataFrame\n",
    "num_elementos = p_internet_accesos_tecnologia_trim.size\n",
    "\n",
    "# Imprimir los resultados\n",
    "print(\"Número de filas:\", num_filas)\n",
    "print(\"Número de columnas:\", num_columnas)\n",
    "print(\"Número total de elementos:\", num_elementos)\n",
    "\n",
    "# Obtener los años únicos\n",
    "anios_diferentes = p_internet_accesos_tecnologia_trim['Año'].unique()\n",
    "\n",
    "# Obtener las provincia únicas\n",
    "provincias_unicas = p_internet_accesos_tecnologia_trim['Provincia'].nunique()\n",
    "\n",
    "# Obtener el número de trimestres por cada año\n",
    "trimestres_por_anio = p_internet_accesos_tecnologia_trim.groupby('Año')['Trimestre'].nunique()\n",
    "\n",
    "# Imprimir los resultados\n",
    "print(\"Años:\", anios_diferentes)\n",
    "print(\"Cantidad de provincias:\", provincias_unicas)\n",
    "print(\"Número de trimestres por año:\")\n",
    "print(trimestres_por_anio)"
   ]
  },
  {
   "cell_type": "markdown",
   "metadata": {},
   "source": [
    "> Podemos observar que tenemos el número de accesos a telefonía móvil de los años 2014 al 2022 (en el 2022 solo tenemos el primer trimestre) y se tienen datos de 24 provincias de Argentina. Tambien podemos observar que hay un outlier como año 0"
   ]
  },
  {
   "cell_type": "code",
   "execution_count": 143,
   "metadata": {},
   "outputs": [
    {
     "name": "stdout",
     "output_type": "stream",
     "text": [
      "Número de filas: 792\n",
      "Número de columnas: 4\n",
      "Número total de elementos: 3168\n",
      "Años: [2022 2021 2020 2019 2018 2017 2016 2015 2014]\n",
      "Cantidad de provincias: 24\n",
      "Número de trimestres por año:\n",
      "Año\n",
      "2014    4\n",
      "2015    4\n",
      "2016    4\n",
      "2017    4\n",
      "2018    4\n",
      "2019    4\n",
      "2020    4\n",
      "2021    4\n",
      "2022    1\n",
      "Name: Trimestre, dtype: int64\n"
     ]
    }
   ],
   "source": [
    "# Número de filas y columnas\n",
    "num_filas, num_columnas = p_internet_accesos_habitantes_trim.shape\n",
    "\n",
    "# Número total de elementos (celdas) en el DataFrame\n",
    "num_elementos = p_internet_accesos_habitantes_trim.size\n",
    "\n",
    "# Imprimir los resultados\n",
    "print(\"Número de filas:\", num_filas)\n",
    "print(\"Número de columnas:\", num_columnas)\n",
    "print(\"Número total de elementos:\", num_elementos)\n",
    "\n",
    "# Obtener los años únicos\n",
    "anios_diferentes = p_internet_accesos_habitantes_trim['Año'].unique()\n",
    "\n",
    "# Obtener las provincia únicas\n",
    "provincias_unicas = p_internet_accesos_habitantes_trim['Provincia'].nunique()\n",
    "\n",
    "# Obtener el número de trimestres por cada año\n",
    "trimestres_por_anio = p_internet_accesos_habitantes_trim.groupby('Año')['Trimestre'].nunique()\n",
    "\n",
    "# Imprimir los resultados\n",
    "print(\"Años:\", anios_diferentes)\n",
    "print(\"Cantidad de provincias:\", provincias_unicas)\n",
    "print(\"Número de trimestres por año:\")\n",
    "print(trimestres_por_anio)"
   ]
  },
  {
   "cell_type": "markdown",
   "metadata": {},
   "source": [
    "## Métricas\n",
    "#Utilizaremos la mediana como métrica en lugar del promedio, ya que solo disponemos de datos para un trimestre en el año 2022. De esta manera, evitaremos que la falta de datos en el resto del año afecte nuestras estimaciones"
   ]
  },
  {
   "cell_type": "markdown",
   "metadata": {},
   "source": [
    "### Ingresos por servicio"
   ]
  },
  {
   "cell_type": "code",
   "execution_count": 97,
   "metadata": {},
   "outputs": [
    {
     "name": "stdout",
     "output_type": "stream",
     "text": [
      "Ingresos totales por año telefonía móvil:\n",
      "2013: $58,560,546\n",
      "2014: $72,607,710\n",
      "2015: $85,950,000\n",
      "2016: $107,676,433\n",
      "2017: $138,536,546\n",
      "2018: $166,694,340\n",
      "2019: $231,880,240\n",
      "2020: $308,729,960\n",
      "2021: $443,035,884\n",
      "2022: $130,454,716\n",
      "Ingresos acumulados telefonía móvil $1,744,126,375\n",
      "Ingresos acumulados telefonía móvil sin 2013: $1,685,565,829\n"
     ]
    }
   ],
   "source": [
    "# Obtener los ingresos totales por cada año\n",
    "ingresos_por_anio = movil_ingresos_trim.groupby('Año')['Ingresos (miles de $)'].sum()\n",
    "\n",
    "# Obtener el ingreso total de todos los años\n",
    "ingresos_totales = movil_ingresos_trim['Ingresos (miles de $)'].sum()\n",
    "\n",
    "# Obtener el ingreso total de todos los años, excluyendo el año 2013\n",
    "ingresos_totales_sin2013 = movil_ingresos_trim[movil_ingresos_trim['Año'] != 2013]['Ingresos (miles de $)'].sum()\n",
    "\n",
    "# Imprimir los resultados\n",
    "print(\"Ingresos totales por año telefonía móvil:\")\n",
    "for anio, ingreso in ingresos_por_anio.items():\n",
    "    print(f\"{anio}: ${ingreso:,.0f}\")\n",
    "print(\"Ingresos acumulados telefonía móvil\", f\"${ingresos_totales:,.0f}\")\n",
    "\n",
    "# Obtener el ingreso total de todos los años, excluyendo el año 2013\n",
    "ingresos_totales = movil_ingresos_trim[movil_ingresos_trim['Año'] != 2013]['Ingresos (miles de $)'].sum()\n",
    "\n",
    "print(\"Ingresos acumulados telefonía móvil sin 2013:\", f\"${ingresos_totales_sin2013:,.0f}\")\n"
   ]
  },
  {
   "cell_type": "code",
   "execution_count": 92,
   "metadata": {},
   "outputs": [
    {
     "name": "stdout",
     "output_type": "stream",
     "text": [
      "Ingresos totales por año telefonía fija:\n",
      "2014: $12,336,090\n",
      "2015: $14,091,891\n",
      "2016: $18,833,594\n",
      "2017: $25,528,579\n",
      "2018: $35,272,512\n",
      "2019: $60,145,770\n",
      "2020: $76,015,449\n",
      "2021: $104,963,474\n",
      "2022: $24,881,132\n",
      "Ingresos acumulados telefonía móvil $372,068,490\n"
     ]
    }
   ],
   "source": [
    "\n",
    "# Obtener los ingresos totales por cada año\n",
    "ingresos_por_anio = n_fija_ingresos_trim.groupby('Año')['Ingresos (miles de $)'].sum()\n",
    "\n",
    "# Obtener el ingreso total de todos los años\n",
    "ingresos_totales =n_fija_ingresos_trim['Ingresos (miles de $)'].sum()\n",
    "\n",
    "# Imprimir los resultados\n",
    "print(\"Ingresos totales por año telefonía fija:\")\n",
    "for anio, ingreso in ingresos_por_anio.items():\n",
    "    print(f\"{anio}: ${ingreso:,.0f}\")\n",
    "print(\"Ingresos acumulados telefonía móvil\", f\"${ingresos_totales:,.0f}\")"
   ]
  },
  {
   "cell_type": "code",
   "execution_count": 95,
   "metadata": {},
   "outputs": [
    {
     "name": "stdout",
     "output_type": "stream",
     "text": [
      "Ingresos totales por año telefonía fija:\n",
      "2014: $13,683,949\n",
      "2015: $20,108,814\n",
      "2016: $26,867,508\n",
      "2017: $39,671,973\n",
      "2018: $59,539,594\n",
      "2019: $86,772,531\n",
      "2020: $127,585,840\n",
      "2021: $163,383,869\n",
      "2022: $51,432,896\n",
      "Ingresos acumulados telefonía móvil $589,046,974\n"
     ]
    }
   ],
   "source": [
    "# Obtener los ingresos totales por cada año\n",
    "ingresos_por_anio = n_internet_ingresos_trim.groupby('Año')['Ingresos (miles de pesos)'].sum()\n",
    "\n",
    "# Obtener el ingreso total de todos los años\n",
    "ingresos_totales =n_internet_ingresos_trim['Ingresos (miles de pesos)'].sum()\n",
    "\n",
    "# Imprimir los resultados\n",
    "print(\"Ingresos totales por año telefonía fija:\")\n",
    "for anio, ingreso in ingresos_por_anio.items():\n",
    "    print(f\"{anio}: ${ingreso:,.0f}\")\n",
    "print(\"Ingresos acumulados telefonía móvil\", f\"${ingresos_totales:,.0f}\")"
   ]
  },
  {
   "cell_type": "markdown",
   "metadata": {},
   "source": [
    "> En el periodo estudiado (2013 al 2022 primer trimestre) tenemos ingresos por telefonía móvil de $1,685,565,829 (miles de $). Vamos a excluír el año 2013 para poder tener los mismos años de comparación en los otros servicios\n",
    ">                                                                 ingresos por telefonía fija de $372,068,490 (miles de $)\n",
    ">                                                                 ingresos por internet de $589,046,974 (miles de $)\n",
    "\n",
    "\n",
    "> De los servicios estudiados, el servicio con mayores ingresos es el de telefonía móvil y el de menores ingresos es el de telefonía fija\n"
   ]
  },
  {
   "cell_type": "markdown",
   "metadata": {},
   "source": [
    "### Accesos por servicio"
   ]
  },
  {
   "cell_type": "code",
   "execution_count": 24,
   "metadata": {},
   "outputs": [
    {
     "name": "stdout",
     "output_type": "stream",
     "text": [
      "Accesos por año:\n",
      "Año\n",
      "2013    628\n",
      "2014    577\n",
      "2015    563\n",
      "2016    577\n",
      "2017    568\n",
      "2018    534\n",
      "2019    514\n",
      "2020    486\n",
      "2021    502\n",
      "2022    129\n",
      "Name: Accesos por cada 100 hab, dtype: int64\n",
      "Promedio de accesos por año:\n",
      "Año\n",
      "2013    157.00\n",
      "2014    144.25\n",
      "2015    140.75\n",
      "2016    144.25\n",
      "2017    142.00\n",
      "2018    133.50\n",
      "2019    128.50\n",
      "2020    121.50\n",
      "2021    125.50\n",
      "2022    129.00\n",
      "Name: Accesos por cada 100 hab, dtype: float64\n",
      "Suma total de accesos: 5078\n",
      "Mediana total de accesos: 140.0\n"
     ]
    }
   ],
   "source": [
    "# Calcular los accesos por año usando groupby y sum()\n",
    "accesos_por_anio = movil_accesos_trim.groupby('Año')['Accesos por cada 100 hab'].sum()\n",
    "\n",
    "# Calcular el promedio de accesos por año usando groupby y mean()\n",
    "promedio_accesos_por_anio = movil_accesos_trim.groupby('Año')['Accesos por cada 100 hab'].mean()\n",
    "\n",
    "# Calcular la suma total de accesos\n",
    "suma_total_accesos = movil_accesos_trim['Accesos por cada 100 hab'].sum()\n",
    "\n",
    "# Calcular el promedio total de accesos\n",
    "promedio_total_accesos = movil_accesos_trim['Accesos por cada 100 hab'].median().round(2)\n",
    "\n",
    "# Imprimir los resultados\n",
    "\n",
    "print(\"Accesos por año telefoía móvil:\")\n",
    "print(accesos_por_anio)\n",
    "print(\"Promedio de accesos por año telefoía móvil:\")\n",
    "print(promedio_accesos_por_anio)\n",
    "print(\"Suma total de accesos telefoía móvil:\", suma_total_accesos)\n",
    "print(\"Mediana total de accesos telefoía móvil:\", promedio_total_accesos)\n"
   ]
  },
  {
   "cell_type": "code",
   "execution_count": 115,
   "metadata": {},
   "outputs": [
    {
     "name": "stdout",
     "output_type": "stream",
     "text": [
      "Accesos por año telefoía fija:\n",
      "Año\n",
      "2014    89.99\n",
      "2015    92.94\n",
      "2016    94.04\n",
      "2017    94.04\n",
      "2018    87.27\n",
      "2019    71.43\n",
      "2020    65.67\n",
      "2021    63.69\n",
      "2022    16.96\n",
      "Name: Accesos telefonía fija por cada 100 hab, dtype: float64\n",
      "Promedio de accesos por año telefoía fija:\n",
      "Año\n",
      "2014    22.4975\n",
      "2015    23.2350\n",
      "2016    23.5100\n",
      "2017    23.5100\n",
      "2018    21.8175\n",
      "2019    17.8575\n",
      "2020    16.4175\n",
      "2021    15.9225\n",
      "2022    16.9600\n",
      "Name: Accesos telefonía fija por cada 100 hab, dtype: float64\n",
      "Suma total de accesos telefoía fija: 676.03\n",
      "Mediana total de accesos telefoía fija: 21.95\n",
      "Mediana total de accesos telefoía fija por hogar: 71.07\n"
     ]
    }
   ],
   "source": [
    "n_fija_accesos_habitantes_trim\n",
    "\n",
    "# Calcular los accesos por año usando groupby y sum()\n",
    "accesos_por_anio = n_fija_accesos_habitantes_trim.groupby('Año')['Accesos telefonía fija por cada 100 hab'].sum()\n",
    "\n",
    "# Calcular el promedio de accesos por año usando groupby y mean()\n",
    "promedio_accesos_por_anio = n_fija_accesos_habitantes_trim.groupby('Año')['Accesos telefonía fija por cada 100 hab'].mean()\n",
    "\n",
    "# Calcular la suma total de accesos\n",
    "suma_total_accesos = n_fija_accesos_habitantes_trim['Accesos telefonía fija por cada 100 hab'].sum()\n",
    "\n",
    "# Calcular el promedio total de accesos\n",
    "promedio_total_accesos = n_fija_accesos_habitantes_trim['Accesos telefonía fija por cada 100 hab'].median().round(2)\n",
    "\n",
    "# Calcular el promedio total de accesos\n",
    "promedio_total_accesos_hogar = n_fija_accesos_habitantes_trim['Accesos telefonía fija por cada 100 hogares'].median().round(2)\n",
    "\n",
    "# Imprimir los resultados\n",
    "\n",
    "print(\"Accesos por año telefoía fija:\")\n",
    "print(accesos_por_anio)\n",
    "print(\"Promedio de accesos por año telefoía fija:\")\n",
    "print(promedio_accesos_por_anio)\n",
    "print(\"Suma total de accesos telefoía fija:\", suma_total_accesos)\n",
    "print(\"Mediana total de accesos telefoía fija:\", promedio_total_accesos)\n",
    "print(\"Mediana total de accesos telefoía fija por hogar:\", promedio_total_accesos_hogar)"
   ]
  },
  {
   "cell_type": "code",
   "execution_count": 117,
   "metadata": {},
   "outputs": [],
   "source": [
    "# Obtener las 5 provincias con mayor acceso a telefonía fija total\n",
    "top_provincias_total = p_fija_accesos_tipos_trim.groupby('Provincia')['Accesos telefonía fija (total)'].sum().nlargest(5)\n",
    "\n",
    "# Obtener las 5 provincias con menor acceso a telefonía fija total\n",
    "bottom_provincias_total = p_fija_accesos_tipos_trim.groupby('Provincia')['Accesos telefonía fija (total)'].sum().nsmallest(5)\n",
    "\n",
    "# Obtener las 5 provincias con mayor acceso a telefonía fija por tipo\n",
    "top_provincias_comercial = p_fija_accesos_tipos_trim.groupby('Provincia')['Accesos telefonía fija (comercial)'].sum().nlargest(5)\n",
    "top_provincias_hogares = p_fija_accesos_tipos_trim.groupby('Provincia')['Accesos telefonía fija (hogares)'].sum().nlargest(5)\n",
    "top_provincias_gobierno = p_fija_accesos_tipos_trim.groupby('Provincia')['Accesos telefonía fija (gobierno)'].sum().nlargest(5)\n",
    "top_provincias_otros = p_fija_accesos_tipos_trim.groupby('Provincia')['Accesos telefonía fija (otros)'].sum().nlargest(5)\n",
    "\n",
    "# Obtener las 5 provincias con menor acceso a telefonía fija por tipo\n",
    "bottom_provincias_comercial = p_fija_accesos_tipos_trim.groupby('Provincia')['Accesos telefonía fija (comercial)'].sum().nsmallest(5)\n",
    "bottom_provincias_hogares = p_fija_accesos_tipos_trim.groupby('Provincia')['Accesos telefonía fija (hogares)'].sum().nsmallest(5)\n",
    "bottom_provincias_gobierno = p_fija_accesos_tipos_trim.groupby('Provincia')['Accesos telefonía fija (gobierno)'].sum().nsmallest(5)\n",
    "bottom_provincias_otros = p_fija_accesos_tipos_trim.groupby('Provincia')['Accesos telefonía fija (otros)'].sum().nsmallest(5)"
   ]
  },
  {
   "cell_type": "code",
   "execution_count": 118,
   "metadata": {},
   "outputs": [
    {
     "name": "stdout",
     "output_type": "stream",
     "text": [
      "Provincias con mayor acceso a telefonía fija total:\n",
      "Provincia\n",
      "Buenos Aires       136,367,335\n",
      "Capital Federal     51,687,928\n",
      "Santa Fe            22,918,902\n",
      "Córdoba             21,623,111\n",
      "Mendoza              9,861,252\n",
      "Name: Accesos telefonía fija (total), dtype: object\n",
      "\n",
      "Provincias con menor acceso a telefonía fija total:\n",
      "Provincia\n",
      "Tierra del Fuego    1,001,791\n",
      "La Rioja            1,116,149\n",
      "Catamarca           1,177,348\n",
      "Formosa             1,272,757\n",
      "Santa Cruz          1,311,696\n",
      "Name: Accesos telefonía fija (total), dtype: object\n"
     ]
    }
   ],
   "source": [
    "# Imprimir los resultados con comas para dividir los miles\n",
    "print(\"Provincias con mayor acceso a telefonía fija total:\")\n",
    "print(top_provincias_total.apply(lambda x: '{:,}'.format(x)))\n",
    "\n",
    "print(\"\\nProvincias con menor acceso a telefonía fija total:\")\n",
    "print(bottom_provincias_total.apply(lambda x: '{:,}'.format(x)))"
   ]
  },
  {
   "cell_type": "code",
   "execution_count": 107,
   "metadata": {},
   "outputs": [
    {
     "name": "stdout",
     "output_type": "stream",
     "text": [
      "\n",
      "Provincias con mayor acceso a telefonía fija (comercial):\n",
      "Provincia\n",
      "Buenos Aires       11,389\n",
      "Capital Federal     4,282\n",
      "Santa Fe            1,905\n",
      "Córdoba             1,801\n",
      "Mendoza               810\n",
      "Name: Accesos telefonía fija (comercial), dtype: object\n",
      "\n",
      "Provincias con menor acceso a telefonía fija (comercial):\n",
      "Provincia\n",
      "Tierra del Fuego    61\n",
      "La Rioja            76\n",
      "Catamarca           80\n",
      "Formosa             82\n",
      "Santa Cruz          97\n",
      "Name: Accesos telefonía fija (comercial), dtype: object\n"
     ]
    }
   ],
   "source": [
    "print(\"\\nProvincias con mayor acceso a telefonía fija (comercial):\")\n",
    "print(top_provincias_comercial.apply(lambda x: '{:,}'.format(x)))\n",
    "\n",
    "print(\"\\nProvincias con menor acceso a telefonía fija (comercial):\")\n",
    "print(bottom_provincias_comercial.apply(lambda x: '{:,}'.format(x)))"
   ]
  },
  {
   "cell_type": "code",
   "execution_count": 104,
   "metadata": {},
   "outputs": [
    {
     "name": "stdout",
     "output_type": "stream",
     "text": [
      "\n",
      "Provincias con mayor acceso a telefonía fija (hogares):\n",
      "Provincia\n",
      "Capital Federal     3,920.08\n",
      "Buenos Aires        2,450.08\n",
      "La Pampa            2,147.07\n",
      "Tierra del Fuego    2,117.74\n",
      "Santa Fe            2,103.66\n",
      "Name: Accesos telefonía fija por cada 100 hogares, dtype: object\n",
      "\n",
      "Provincias con menor acceso a telefonía fija (hogares):\n",
      "Provincia\n",
      "Formosa                  845.76\n",
      "Jujuy                    902.89\n",
      "Santiago del Estero      925.15\n",
      "Chaco                  1,002.39\n",
      "Misiones               1,020.62\n",
      "Name: Accesos telefonía fija por cada 100 hogares, dtype: object\n"
     ]
    }
   ],
   "source": [
    "print(\"\\nProvincias con mayor acceso a telefonía fija (hogares):\")\n",
    "print(top_provincias_hogares.apply(lambda x: '{:,}'.format(x)))\n",
    "\n",
    "print(\"\\nProvincias con menor acceso a telefonía fija (hogares):\")\n",
    "print(bottom_provincias_hogares.apply(lambda x: '{:,}'.format(x)))"
   ]
  },
  {
   "cell_type": "code",
   "execution_count": 108,
   "metadata": {},
   "outputs": [
    {
     "name": "stdout",
     "output_type": "stream",
     "text": [
      "\n",
      "Provincias con mayor acceso a telefonía fija (gobierno):\n",
      "Provincia\n",
      "Entre Ríos    27,282\n",
      "Tucumán       25,919\n",
      "Salta         16,441\n",
      "Río Negro     15,122\n",
      "Misiones      13,425\n",
      "Name: Accesos telefonía fija (gobierno), dtype: object\n",
      "\n",
      "Provincias con menor acceso a telefonía fija (gobierno):\n",
      "Provincia\n",
      "Córdoba                66\n",
      "Santa Fe               67\n",
      "Capital Federal       184\n",
      "Buenos Aires          518\n",
      "Tierra del Fuego    3,906\n",
      "Name: Accesos telefonía fija (gobierno), dtype: object\n"
     ]
    }
   ],
   "source": [
    "print(\"\\nProvincias con mayor acceso a telefonía fija (gobierno):\")\n",
    "print(top_provincias_gobierno.apply(lambda x: '{:,}'.format(x)))\n",
    "\n",
    "print(\"\\nProvincias con menor acceso a telefonía fija (gobierno):\")\n",
    "print(bottom_provincias_gobierno.apply(lambda x: '{:,}'.format(x)))"
   ]
  },
  {
   "cell_type": "code",
   "execution_count": 109,
   "metadata": {},
   "outputs": [
    {
     "name": "stdout",
     "output_type": "stream",
     "text": [
      "\n",
      "Provincias con mayor acceso a telefonía fija (otros):\n",
      "Provincia\n",
      "San Luis            7,900\n",
      "Tierra del Fuego    7,753\n",
      "Formosa             7,647\n",
      "La Rioja            7,085\n",
      "Jujuy               7,038\n",
      "Name: Accesos telefonía fija (otros), dtype: object\n",
      "\n",
      "Provincias con menor acceso a telefonía fija (otros):\n",
      "Provincia\n",
      "La Pampa       87\n",
      "Neuquén       107\n",
      "San Juan      108\n",
      "Chaco         110\n",
      "Corrientes    113\n",
      "Name: Accesos telefonía fija (otros), dtype: object\n"
     ]
    }
   ],
   "source": [
    "print(\"\\nProvincias con mayor acceso a telefonía fija (otros):\")\n",
    "print(top_provincias_otros.apply(lambda x: '{:,}'.format(x)))\n",
    "\n",
    "print(\"\\nProvincias con menor acceso a telefonía fija (otros):\")\n",
    "print(bottom_provincias_otros.apply(lambda x: '{:,}'.format(x)))"
   ]
  },
  {
   "cell_type": "code",
   "execution_count": 89,
   "metadata": {},
   "outputs": [],
   "source": [
    "# Obtener las 5 provincias con mayor acceso a telefonía fija por cada 100 habitantes\n",
    "top_provincias_habitantes = p_fija_accesos_habitantes_trim.groupby('Provincia')['Accesos telefonía fija por cada 100 hab'].sum().nlargest(5)\n",
    "\n",
    "# Obtener las 5 provincias con menor acceso a telefonía fija por cada 100 habitantes\n",
    "bottom_provincias_habitantes = p_fija_accesos_habitantes_trim.groupby('Provincia')['Accesos telefonía fija por cada 100 hab'].sum().nsmallest(5)\n",
    "\n",
    "# Obtener las 5 provincias con mayor acceso a telefonía fija por cada 100 hogares\n",
    "top_provincias_hogares = p_fija_accesos_habitantes_trim.groupby('Provincia')['Accesos telefonía fija por cada 100 hogares'].sum().nlargest(5)\n",
    "\n",
    "# Obtener las 5 provincias con menor acceso a telefonía fija por cada 100 hogares\n",
    "bottom_provincias_hogares = p_fija_accesos_habitantes_trim.groupby('Provincia')['Accesos telefonía fija por cada 100 hogares'].sum().nsmallest(5)\n"
   ]
  },
  {
   "cell_type": "code",
   "execution_count": 87,
   "metadata": {},
   "outputs": [
    {
     "name": "stdout",
     "output_type": "stream",
     "text": [
      "Provincias con mayor acceso a telefonía fija por cada 100 habitantes:\n",
      "Provincia\n",
      "Capital Federal     1,641.24\n",
      "Buenos Aires          788.92\n",
      "La Pampa              707.43\n",
      "Santa Fe              661.51\n",
      "Tierra del Fuego      627.93\n",
      "Name: Accesos telefonía fija por cada 100 hab, dtype: object\n",
      "\n",
      "Provincias con menor acceso a telefonía fija por cada 100 habitantes:\n",
      "Provincia\n",
      "Formosa                215.26\n",
      "Santiago del Estero    229.59\n",
      "Jujuy                  230.87\n",
      "Chaco                  267.92\n",
      "Misiones               277.99\n",
      "Name: Accesos telefonía fija por cada 100 hab, dtype: object\n"
     ]
    }
   ],
   "source": [
    "print(\"Provincias con mayor acceso a telefonía fija por cada 100 habitantes:\")\n",
    "print(top_provincias_habitantes.apply('{:,}'.format))\n",
    "\n",
    "print(\"\\nProvincias con menor acceso a telefonía fija por cada 100 habitantes:\")\n",
    "print(bottom_provincias_habitantes.apply('{:,}'.format))"
   ]
  },
  {
   "cell_type": "code",
   "execution_count": 88,
   "metadata": {},
   "outputs": [
    {
     "name": "stdout",
     "output_type": "stream",
     "text": [
      "\n",
      "Provincias con mayor acceso a telefonía fija por cada 100 hogares:\n",
      "Provincia\n",
      "Capital Federal     3,920.08\n",
      "Buenos Aires        2,450.08\n",
      "La Pampa            2,147.07\n",
      "Tierra del Fuego    2,117.74\n",
      "Santa Fe            2,103.66\n",
      "Name: Accesos telefonía fija por cada 100 hogares, dtype: object\n",
      "\n",
      "Provincias con menor acceso a telefonía fija por cada 100 hogares:\n",
      "Provincia\n",
      "Formosa                  845.76\n",
      "Jujuy                    902.89\n",
      "Santiago del Estero      925.15\n",
      "Chaco                  1,002.39\n",
      "Misiones               1,020.62\n",
      "Name: Accesos telefonía fija por cada 100 hogares, dtype: object\n"
     ]
    }
   ],
   "source": [
    "print(\"\\nProvincias con mayor acceso a telefonía fija por cada 100 hogares:\")\n",
    "print(top_provincias_hogares.apply('{:,}'.format))\n",
    "\n",
    "print(\"\\nProvincias con menor acceso a telefonía fija por cada 100 hogares:\")\n",
    "print(bottom_provincias_hogares.apply('{:,}'.format))"
   ]
  },
  {
   "cell_type": "code",
   "execution_count": 145,
   "metadata": {},
   "outputs": [
    {
     "data": {
      "text/html": [
       "<div>\n",
       "<style scoped>\n",
       "    .dataframe tbody tr th:only-of-type {\n",
       "        vertical-align: middle;\n",
       "    }\n",
       "\n",
       "    .dataframe tbody tr th {\n",
       "        vertical-align: top;\n",
       "    }\n",
       "\n",
       "    .dataframe thead th {\n",
       "        text-align: right;\n",
       "    }\n",
       "</style>\n",
       "<table border=\"1\" class=\"dataframe\">\n",
       "  <thead>\n",
       "    <tr style=\"text-align: right;\">\n",
       "      <th></th>\n",
       "      <th>Año</th>\n",
       "      <th>Trimestre</th>\n",
       "      <th>Provincia</th>\n",
       "      <th>Accesos por cada 100 hogares</th>\n",
       "    </tr>\n",
       "  </thead>\n",
       "  <tbody>\n",
       "    <tr>\n",
       "      <th>0</th>\n",
       "      <td>2022</td>\n",
       "      <td>1</td>\n",
       "      <td>Buenos Aires</td>\n",
       "      <td>76.08</td>\n",
       "    </tr>\n",
       "    <tr>\n",
       "      <th>1</th>\n",
       "      <td>2022</td>\n",
       "      <td>1</td>\n",
       "      <td>Capital Federal</td>\n",
       "      <td>111.80</td>\n",
       "    </tr>\n",
       "    <tr>\n",
       "      <th>2</th>\n",
       "      <td>2022</td>\n",
       "      <td>1</td>\n",
       "      <td>Catamarca</td>\n",
       "      <td>58.21</td>\n",
       "    </tr>\n",
       "    <tr>\n",
       "      <th>3</th>\n",
       "      <td>2022</td>\n",
       "      <td>1</td>\n",
       "      <td>Chaco</td>\n",
       "      <td>44.06</td>\n",
       "    </tr>\n",
       "    <tr>\n",
       "      <th>4</th>\n",
       "      <td>2022</td>\n",
       "      <td>1</td>\n",
       "      <td>Chubut</td>\n",
       "      <td>88.05</td>\n",
       "    </tr>\n",
       "  </tbody>\n",
       "</table>\n",
       "</div>"
      ],
      "text/plain": [
       "    Año  Trimestre        Provincia  Accesos por cada 100 hogares\n",
       "0  2022          1     Buenos Aires                         76.08\n",
       "1  2022          1  Capital Federal                        111.80\n",
       "2  2022          1        Catamarca                         58.21\n",
       "3  2022          1            Chaco                         44.06\n",
       "4  2022          1           Chubut                         88.05"
      ]
     },
     "execution_count": 145,
     "metadata": {},
     "output_type": "execute_result"
    }
   ],
   "source": [
    "p_internet_accesos_habitantes_trim.head()"
   ]
  },
  {
   "cell_type": "code",
   "execution_count": 148,
   "metadata": {},
   "outputs": [],
   "source": [
    "\n",
    "# Obtener las 5 provincias con mayor acceso a internet por cada 100 hogares\n",
    "top_provincias_hogares_i = p_internet_accesos_habitantes_trim.groupby('Provincia')['Accesos por cada 100 hogares'].sum().nlargest(5)\n",
    "\n",
    "# Obtener las 5 provincias con menor acceso a internet por cada 100 hogares\n",
    "bottom_provincias_hogares_i = p_internet_accesos_habitantes_trim.groupby('Provincia')['Accesos por cada 100 hogares'].sum().nsmallest(5)"
   ]
  },
  {
   "cell_type": "code",
   "execution_count": 149,
   "metadata": {},
   "outputs": [
    {
     "name": "stdout",
     "output_type": "stream",
     "text": [
      "\n",
      "Provincias con mayor acceso a internet por cada 100 hogares:\n",
      "Provincia\n",
      "Capital Federal     3,724.69\n",
      "Tierra Del Fuego    2,535.94\n",
      "La Pampa            2,281.61\n",
      "Córdoba             2,146.68\n",
      "Buenos Aires        2,068.63\n",
      "Name: Accesos por cada 100 hogares, dtype: object\n",
      "\n",
      "Provincias con menor acceso a internet por cada 100 hogares:\n",
      "Provincia\n",
      "Formosa                             830.34\n",
      "Santiago Del Estero               1,029.58\n",
      "Santa Cruz                        1,055.89\n",
      "San Juan               1,059.1200000000001\n",
      "Chaco                             1,073.75\n",
      "Name: Accesos por cada 100 hogares, dtype: object\n"
     ]
    }
   ],
   "source": [
    "print(\"\\nProvincias con mayor acceso a internet por cada 100 hogares:\")\n",
    "print(top_provincias_hogares_i.apply('{:,}'.format))\n",
    "\n",
    "print(\"\\nProvincias con menor acceso a internet por cada 100 hogares:\")\n",
    "print(bottom_provincias_hogares_i.apply('{:,}'.format))"
   ]
  },
  {
   "cell_type": "code",
   "execution_count": null,
   "metadata": {},
   "outputs": [],
   "source": [
    "p_fija_accesos_tipos_trim\n",
    "# Calcular los accesos por año usando groupby y sum()\n",
    "accesos_por_anio = n_fija_accesos_habitantes_trim.groupby('Año')['Accesos telefonía fija por cada 100 hab'].sum()\n",
    "\n",
    "# Calcular el promedio de accesos por año usando groupby y mean()\n",
    "promedio_accesos_por_anio = n_fija_accesos_habitantes_trim.groupby('Año')['Accesos telefonía fija por cada 100 hab'].mean()\n",
    "\n",
    "# Calcular la suma total de accesos\n",
    "suma_total_accesos = n_fija_accesos_habitantes_trim['Accesos telefonía fija por cada 100 hab'].sum()\n",
    "\n",
    "# Calcular el promedio total de accesos\n",
    "promedio_total_accesos = n_fija_accesos_habitantes_trim['Accesos telefonía fija por cada 100 hab'].median().round(2)\n",
    "\n",
    "# Calcular el promedio total de accesos\n",
    "promedio_total_accesos_hogar = n_fija_accesos_habitantes_trim['Accesos telefonía fija por cada 100 hogares'].median().round(2)\n",
    "\n",
    "# Imprimir los resultados\n",
    "\n",
    "print(\"Accesos por año telefoía fija:\")\n",
    "print(accesos_por_anio)\n",
    "print(\"Promedio de accesos por año telefoía fija:\")\n",
    "print(promedio_accesos_por_anio)\n",
    "print(\"Suma total de accesos telefoía fija:\", suma_total_accesos)\n",
    "print(\"Mediana total de accesos telefoía fija:\", promedio_total_accesos)\n",
    "print(\"Mediana total de accesos telefoía fija por hogar:\", promedio_total_accesos_hogar)"
   ]
  },
  {
   "cell_type": "code",
   "execution_count": 130,
   "metadata": {},
   "outputs": [
    {
     "name": "stdout",
     "output_type": "stream",
     "text": [
      "Total de ADSL por año:\n",
      "Año\n",
      "2014    14884750\n",
      "2015    15115694\n",
      "2016    15073814\n",
      "2017    14639302\n",
      "2018    13981984\n",
      "2019    11447626\n",
      "2020     9072828\n",
      "2021     7802044\n",
      "2022     1533240\n",
      "Name: ADSL, dtype: int64\n",
      "\n",
      "Total de Cablemodem por año:\n",
      "Año\n",
      "2014     9975087\n",
      "2015    11162971\n",
      "2016    12177088\n",
      "2017    14148063\n",
      "2018    16571272\n",
      "2019    18754974\n",
      "2020    20539964\n",
      "2021    22877010\n",
      "2022     6073426\n",
      "Name: Cablemodem, dtype: int64\n",
      "\n",
      "Total de Fibra óptica por año:\n",
      "Año\n",
      "2014     604862\n",
      "2015     620877\n",
      "2016     680127\n",
      "2017     766312\n",
      "2018    1079124\n",
      "2019    3191409\n",
      "2020    4636620\n",
      "2021    6473506\n",
      "2022    2219533\n",
      "Name: Fibra óptica, dtype: int64\n",
      "\n",
      "Total de Wireless por año:\n",
      "Año\n",
      "2014     303\n",
      "2015     330\n",
      "2016     336\n",
      "2017     430\n",
      "2018     869\n",
      "2019    1262\n",
      "2020    1562\n",
      "2021    1925\n",
      "2022     545\n",
      "Name: Wireless, dtype: int64\n",
      "\n",
      "Total de Otros por año:\n",
      "Año\n",
      "2014     285\n",
      "2015     241\n",
      "2016     226\n",
      "2017     342\n",
      "2018     463\n",
      "2019     908\n",
      "2020     957\n",
      "2021    1005\n",
      "2022     251\n",
      "Name: Otros, dtype: int64\n",
      "\n",
      "Total general por año:\n",
      "Año\n",
      "2014    26056633\n",
      "2015    27473819\n",
      "2016    28496058\n",
      "2017    30330683\n",
      "2018    32968187\n",
      "2019    35566181\n",
      "2020    36771243\n",
      "2021    40086391\n",
      "2022    10624009\n",
      "Name: Total, dtype: int64\n"
     ]
    }
   ],
   "source": [
    "n_internet_tipo_trim.head()\n",
    "# Obtener el total de ADSL por año\n",
    "total_adsl_por_anio = n_internet_tipo_trim.groupby('Año')['ADSL'].sum()\n",
    "\n",
    "# Obtener el total de Cablemodem por año\n",
    "total_cablemodem_por_anio = n_internet_tipo_trim.groupby('Año')['Cablemodem'].sum()\n",
    "\n",
    "# Obtener el total de Fibra óptica por año\n",
    "total_fibra_optica_por_anio = n_internet_tipo_trim.groupby('Año')['Fibra óptica'].sum()\n",
    "\n",
    "# Obtener el total de Wireless por año\n",
    "total_wireless_por_anio = n_internet_tipo_trim.groupby('Año')['Wireless'].sum()\n",
    "\n",
    "# Obtener el total de Otros por año\n",
    "total_otros_por_anio = n_internet_tipo_trim.groupby('Año')['Otros'].sum()\n",
    "\n",
    "# Obtener el total general por año\n",
    "total_general_por_anio = n_internet_tipo_trim.groupby('Año')['Total'].sum()\n",
    "\n",
    "# Obtener el total de todos los años juntos por tipo de conexión\n",
    "total_adsl = n_internet_tipo_trim['ADSL'].sum()\n",
    "total_cablemodem = n_internet_tipo_trim['Cablemodem'].sum()\n",
    "total_fibra_optica = n_internet_tipo_trim['Fibra óptica'].sum()\n",
    "total_wireless = n_internet_tipo_trim['Wireless'].sum()\n",
    "total_otros = n_internet_tipo_trim['Otros'].sum()\n",
    "total_general = n_internet_tipo_trim['Total'].sum()\n",
    "\n",
    "# Imprimir los resultados\n",
    "print(\"Total de ADSL por año:\")\n",
    "print(total_adsl_por_anio)\n",
    "\n",
    "print(\"\\nTotal de Cablemodem por año:\")\n",
    "print(total_cablemodem_por_anio)\n",
    "\n",
    "print(\"\\nTotal de Fibra óptica por año:\")\n",
    "print(total_fibra_optica_por_anio)\n",
    "\n",
    "print(\"\\nTotal de Wireless por año:\")\n",
    "print(total_wireless_por_anio)\n",
    "\n",
    "print(\"\\nTotal de Otros por año:\")\n",
    "print(total_otros_por_anio)\n",
    "\n",
    "print(\"\\nTotal general por año:\")\n",
    "print(total_general_por_anio)\n"
   ]
  },
  {
   "cell_type": "code",
   "execution_count": 124,
   "metadata": {},
   "outputs": [
    {
     "name": "stdout",
     "output_type": "stream",
     "text": [
      "Total de ADSL acumulado: 103,551,282\n",
      "Total de Cablemodem acumulado: 132,279,855\n",
      "Total de Fibra óptica acumulado: 20,272,370\n",
      "Total de Wireless acumulado: 7,562\n",
      "Total de Otros acumulado: 4,678\n",
      "Total general acumulado: 268,373,204\n"
     ]
    }
   ],
   "source": [
    "# Imprimir los resultados \n",
    "print(f\"Total de ADSL acumulado: {total_adsl:,}\")\n",
    "print(f\"Total de Cablemodem acumulado: {total_cablemodem:,}\")\n",
    "print(f\"Total de Fibra óptica acumulado: {total_fibra_optica:,}\")\n",
    "print(f\"Total de Wireless acumulado: {total_wireless:,}\")\n",
    "print(f\"Total de Otros acumulado: {total_otros:,}\")\n",
    "print(f\"Total general acumulado: {total_general:,}\")\n",
    "\n",
    "\n"
   ]
  },
  {
   "cell_type": "code",
   "execution_count": 125,
   "metadata": {},
   "outputs": [
    {
     "name": "stdout",
     "output_type": "stream",
     "text": [
      "Total de ADSL por año:\n",
      "Año\n",
      "2014    14884750\n",
      "2015    15115694\n",
      "2016    15073814\n",
      "2017    14639302\n",
      "2018    13981984\n",
      "2019    11447626\n",
      "2020     9072828\n",
      "2021     7802044\n",
      "2022     1533240\n",
      "Name: ADSL, dtype: int64\n",
      "\n",
      "Total de Cablemodem por año:\n",
      "Año\n",
      "2014     9975087\n",
      "2015    11162971\n",
      "2016    12177088\n",
      "2017    14148063\n",
      "2018    16571272\n",
      "2019    18754974\n",
      "2020    20539964\n",
      "2021    22877010\n",
      "2022     6073426\n",
      "Name: Cablemodem, dtype: int64\n",
      "\n",
      "Total de Fibra óptica por año:\n",
      "Año\n",
      "2014     604862\n",
      "2015     620877\n",
      "2016     680127\n",
      "2017     766312\n",
      "2018    1079124\n",
      "2019    3191409\n",
      "2020    4636620\n",
      "2021    6473506\n",
      "2022    2219533\n",
      "Name: Fibra óptica, dtype: int64\n",
      "\n",
      "Total de Wireless por año:\n",
      "Año\n",
      "2014     303\n",
      "2015     330\n",
      "2016     336\n",
      "2017     430\n",
      "2018     869\n",
      "2019    1262\n",
      "2020    1562\n",
      "2021    1925\n",
      "2022     545\n",
      "Name: Wireless, dtype: int64\n",
      "\n",
      "Total de Otros por año:\n",
      "Año\n",
      "2014     285\n",
      "2015     241\n",
      "2016     226\n",
      "2017     342\n",
      "2018     463\n",
      "2019     908\n",
      "2020     957\n",
      "2021    1005\n",
      "2022     251\n",
      "Name: Otros, dtype: int64\n",
      "\n",
      "Total general por año:\n",
      "Año\n",
      "2014    26056633\n",
      "2015    27473819\n",
      "2016    28496058\n",
      "2017    30330683\n",
      "2018    32968187\n",
      "2019    35566181\n",
      "2020    36771243\n",
      "2021    40086391\n",
      "2022    10624009\n",
      "Name: Total, dtype: int64\n"
     ]
    }
   ],
   "source": [
    "# Imprimir los resultados\n",
    "print(\"Total de ADSL por año:\")\n",
    "print(total_adsl_por_anio)\n",
    "\n",
    "print(\"\\nTotal de Cablemodem por año:\")\n",
    "print(total_cablemodem_por_anio)\n",
    "\n",
    "print(\"\\nTotal de Fibra óptica por año:\")\n",
    "print(total_fibra_optica_por_anio)\n",
    "\n",
    "print(\"\\nTotal de Wireless por año:\")\n",
    "print(total_wireless_por_anio)\n",
    "\n",
    "print(\"\\nTotal de Otros por año:\")\n",
    "print(total_otros_por_anio)\n",
    "\n",
    "print(\"\\nTotal general por año:\")\n",
    "print(total_general_por_anio)"
   ]
  },
  {
   "cell_type": "markdown",
   "metadata": {},
   "source": [
    "> En el periodo estudiado tenemos una mediana de 138 de accesos a telefonía móvil por cada 100 habitantes, indicando esto que hay habitantes que tienen más de 1 acceso\n",
    ">                         tenemos una mediana de 22 de accesos a telefonía fija por cada 100 habitantes, indicando esto la mayoría de habitantes tienen tienen una telefonía fija por hogar o ya no consumen telefonía fija, corroborando esto al obtener una mediana de 71 por cada 100 hogares\n",
    "\n",
    ">  Podemos observar que el tipo de tecnología más utilizado en el periodo estudiado es Cablemodem y el menos utilizado es Otro\n",
    "\n",
    "> Podemos observar que las provincias con mayor acceso a telefonía fija son: Buenos Aires, Capital Federal, Santa Fe, Córdoba y Mendoza. Este resultado es consistente al subdividirlo los accesos en hogares, comerciales y gobierno\n",
    ">                                         menor acceso a telefonía fija son: Tierra del Fuego, La Rioja, Catamarca, Formosa y Santa Cruz.Este resultado es consistente al subdividirlo los accesos en hogares, comerciales y gobierno\n",
    "\n",
    "> Podemos observar que las provincias con mayor acceso a telefonía fija por hogares y habitantes son: Capital Federal, Buenos Aires, La Pampa, Santa Fe y Tierra del Fuego\n",
    ">                                         menor acceso a telefonía fija por hogares y habitantes son: Formosa, Jujuy, Santiago del Estero, Chaco y Misiones   \n",
    "Llama la atención que Tierra de Fuego esta entre las provincias con menor acceso a telefoía fija pero es de las provincias con mayor acceso a telefonía por hogar y habitantes.      \n",
    "\n",
    "> Podemos observar que las provincias con mayor acceso a internet por hogares son: Capital Federal, Tierra Del Fuego, La Pampa, Córdoba y Buenos Aires   \n",
    ">                                         menor acceso a internet por hogares son: Formosa, Santiago Del Estero, Santa Cruz, San Juan y Chaco   "
   ]
  },
  {
   "cell_type": "markdown",
   "metadata": {},
   "source": [
    "### Velocidad Internet"
   ]
  },
  {
   "cell_type": "code",
   "execution_count": 139,
   "metadata": {},
   "outputs": [
    {
     "name": "stdout",
     "output_type": "stream",
     "text": [
      "Año\n",
      "2014     3.85\n",
      "2015     4.67\n",
      "2016     5.70\n",
      "2017     8.53\n",
      "2018    14.60\n",
      "2019    22.54\n",
      "2020    39.72\n",
      "2021    47.39\n",
      "2022    55.11\n",
      "Name: Mbps (Media de bajada), dtype: float64\n"
     ]
    }
   ],
   "source": [
    "# Obtener el promedio de la columna \"Mbps (Media de bajada)\" por año\n",
    "promedio_mbps_por_anio = n_internet_accesos_velocidadMedia_trim.groupby('Año')['Mbps (Media de bajada)'].mean()\n",
    "\n",
    "# Imprimir los resultados con formato de dos decimales\n",
    "print(promedio_mbps_por_anio.round(2))\n"
   ]
  },
  {
   "cell_type": "code",
   "execution_count": 131,
   "metadata": {},
   "outputs": [
    {
     "data": {
      "text/html": [
       "<div>\n",
       "<style scoped>\n",
       "    .dataframe tbody tr th:only-of-type {\n",
       "        vertical-align: middle;\n",
       "    }\n",
       "\n",
       "    .dataframe tbody tr th {\n",
       "        vertical-align: top;\n",
       "    }\n",
       "\n",
       "    .dataframe thead th {\n",
       "        text-align: right;\n",
       "    }\n",
       "</style>\n",
       "<table border=\"1\" class=\"dataframe\">\n",
       "  <thead>\n",
       "    <tr style=\"text-align: right;\">\n",
       "      <th></th>\n",
       "      <th>Año</th>\n",
       "      <th>Trimestre</th>\n",
       "      <th>Mbps (Media de bajada)</th>\n",
       "    </tr>\n",
       "  </thead>\n",
       "  <tbody>\n",
       "    <tr>\n",
       "      <th>0</th>\n",
       "      <td>2022</td>\n",
       "      <td>1</td>\n",
       "      <td>55.11</td>\n",
       "    </tr>\n",
       "    <tr>\n",
       "      <th>1</th>\n",
       "      <td>2021</td>\n",
       "      <td>4</td>\n",
       "      <td>52.34</td>\n",
       "    </tr>\n",
       "    <tr>\n",
       "      <th>2</th>\n",
       "      <td>2021</td>\n",
       "      <td>3</td>\n",
       "      <td>48.46</td>\n",
       "    </tr>\n",
       "    <tr>\n",
       "      <th>3</th>\n",
       "      <td>2021</td>\n",
       "      <td>2</td>\n",
       "      <td>45.63</td>\n",
       "    </tr>\n",
       "    <tr>\n",
       "      <th>4</th>\n",
       "      <td>2021</td>\n",
       "      <td>1</td>\n",
       "      <td>43.11</td>\n",
       "    </tr>\n",
       "  </tbody>\n",
       "</table>\n",
       "</div>"
      ],
      "text/plain": [
       "    Año  Trimestre  Mbps (Media de bajada)\n",
       "0  2022          1                   55.11\n",
       "1  2021          4                   52.34\n",
       "2  2021          3                   48.46\n",
       "3  2021          2                   45.63\n",
       "4  2021          1                   43.11"
      ]
     },
     "execution_count": 131,
     "metadata": {},
     "output_type": "execute_result"
    }
   ],
   "source": [
    "n_internet_accesos_velocidadMedia_trim.head()"
   ]
  },
  {
   "cell_type": "markdown",
   "metadata": {},
   "source": [
    "### Líder de mercado"
   ]
  },
  {
   "cell_type": "code",
   "execution_count": 28,
   "metadata": {},
   "outputs": [
    {
     "name": "stdout",
     "output_type": "stream",
     "text": [
      "Total acumulado de altas por Personal: 5,607,859\n",
      "Total acumulado de altas por Claro: 6,181,085\n",
      "Total acumulado de altas por Nextel: 9,868\n",
      "Total acumulado de altas por Movistar: 5,545,365\n",
      "Total acumulado de altas general: 17,344,177\n",
      "Mediana acumulada de altas por Personal: 38,920.00\n",
      "Mediana acumulada de altas por Claro: 49,463.50\n",
      "Mediana acumulada de altas por Nextel: 12.00\n",
      "Mediana acumulada de altas por Movistar: 41,693.00\n",
      "Mediana acumulada total de altas: 123,836.00\n"
     ]
    }
   ],
   "source": [
    "\n",
    "# Obtener los totales y promedios acumulados de todos los años por operador\n",
    "total_acumulado_personal = movil_altas_mens['Personal'].sum()\n",
    "total_acumulado_claro = movil_altas_mens['Claro'].sum()\n",
    "total_acumulado_nextel = movil_altas_mens['Nextel'].sum()\n",
    "total_acumulado_movistar = movil_altas_mens['Movistar'].sum()\n",
    "total_acumulado_general = movil_altas_mens['Total general'].sum()\n",
    "\n",
    "mediana_acumulado_personal = movil_altas_mens['Personal'].median()\n",
    "mediana_acumulado_claro = movil_altas_mens['Claro'].median()\n",
    "mediana_acumulado_nextel = movil_altas_mens['Nextel'].median()\n",
    "mediana_acumulado_movistar = movil_altas_mens['Movistar'].median()\n",
    "mediana_acumulado_general = movil_altas_mens['Total general'].median()\n",
    "\n",
    "# Imprimir los resultados\n",
    "\n",
    "print(\"Total acumulado de altas por Personal:\", '{:,.0f}'.format(total_acumulado_personal))\n",
    "print(\"Total acumulado de altas por Claro:\", '{:,.0f}'.format(total_acumulado_claro))\n",
    "print(\"Total acumulado de altas por Nextel:\", '{:,.0f}'.format(total_acumulado_nextel))\n",
    "print(\"Total acumulado de altas por Movistar:\", '{:,.0f}'.format(total_acumulado_movistar))\n",
    "print(\"Total acumulado de altas general:\", '{:,.0f}'.format(total_acumulado_general))\n",
    "\n",
    "print(\"Mediana acumulada de altas por Personal:\", '{:,.2f}'.format(mediana_acumulado_personal))\n",
    "print(\"Mediana acumulada de altas por Claro:\", '{:,.2f}'.format(mediana_acumulado_claro))\n",
    "print(\"Mediana acumulada de altas por Nextel:\", '{:,.2f}'.format(mediana_acumulado_nextel))\n",
    "print(\"Mediana acumulada de altas por Movistar:\", '{:,.2f}'.format(mediana_acumulado_movistar))\n",
    "print(\"Mediana acumulada total de altas:\", '{:,.2f}'.format(mediana_acumulado_general))\n",
    "\n"
   ]
  },
  {
   "cell_type": "markdown",
   "metadata": {},
   "source": [
    "> En el periodo estudiado podemos observar que el operador líder de mercado en telefonía móvil es Claro"
   ]
  },
  {
   "cell_type": "code",
   "execution_count": 42,
   "metadata": {},
   "outputs": [
    {
     "name": "stdout",
     "output_type": "stream",
     "text": [
      "Minutos totales de Prepago por año:\n",
      "Año\n",
      "2013    27,276,460\n",
      "2014    26,564,076\n",
      "2015    27,559,856\n",
      "2016    27,452,109\n",
      "2017    24,192,629\n",
      "2018    24,600,521\n",
      "2019    25,743,256\n",
      "2020    23,625,781\n",
      "2021    21,720,076\n",
      "2022     3,588,769\n",
      "Name: Minutos prepago salientes (miles), dtype: object\n",
      "\n",
      "Minutos totales de Pospago por año:\n",
      "Año\n",
      "2013    38,423,631\n",
      "2014    44,471,888\n",
      "2015    45,171,997\n",
      "2016    50,608,174\n",
      "2017    59,216,263\n",
      "2018    57,153,162\n",
      "2019    52,993,511\n",
      "2020    57,307,073\n",
      "2021    52,958,831\n",
      "2022    12,741,608\n",
      "Name: Minutos pospago salientes (miles), dtype: object\n",
      "\n",
      "Suma de minutos Prepago y Pospago por año:\n",
      "     Minutos prepago salientes (miles) Minutos pospago salientes (miles)\n",
      "Año                                                                     \n",
      "2013                        27,276,460                        38,423,631\n",
      "2014                        26,564,076                        44,471,888\n",
      "2015                        27,559,856                        45,171,997\n",
      "2016                        27,452,109                        50,608,174\n",
      "2017                        24,192,629                        59,216,263\n",
      "2018                        24,600,521                        57,153,162\n",
      "2019                        25,743,256                        52,993,511\n",
      "2020                        23,625,781                        57,307,073\n",
      "2021                        21,720,076                        52,958,831\n",
      "2022                         3,588,769                        12,741,608\n",
      "\n",
      "Mediana del acumulado de minutos Prepago y Pospago:\n",
      "Minutos prepago salientes (miles)    25,171,888.5\n",
      "Minutos pospago salientes (miles)    51,783,502.5\n",
      "dtype: object\n"
     ]
    }
   ],
   "source": [
    "\n",
    "# Obtener los totales de prepago por año\n",
    "total_prepago_por_anio = movil_minutos_trim.groupby('Año')['Minutos prepago salientes (miles)'].sum()\n",
    "\n",
    "# Obtener los totales de pospago por año\n",
    "total_pospago_por_anio = movil_minutos_trim.groupby('Año')['Minutos pospago salientes (miles)'].sum()\n",
    "\n",
    "# Obtener la suma de prepago y pospago por año\n",
    "suma_prepago_pospago_por_anio = movil_minutos_trim.groupby('Año')[['Minutos prepago salientes (miles)', 'Minutos pospago salientes (miles)']].sum()\n",
    "\n",
    "# Obtener la mediana de la suma de prepago y pospago\n",
    "mediana_prepago_pospago = suma_prepago_pospago_por_anio.median()\n",
    "\n",
    "# Imprimir los resultados con comas como separador de miles\n",
    "print(\"Minutos totales de Prepago por año:\")\n",
    "print(total_prepago_por_anio.apply('{:,}'.format))\n",
    "print(\"\\nMinutos totales de Pospago por año:\")\n",
    "print(total_pospago_por_anio.apply('{:,}'.format))\n",
    "print(\"\\nSuma de minutos Prepago y Pospago por año:\")\n",
    "print(suma_prepago_pospago_por_anio.applymap('{:,}'.format))\n",
    "print(\"\\nMediana del acumulado de minutos Prepago y Pospago:\")\n",
    "print(mediana_prepago_pospago.apply('{:,}'.format))"
   ]
  },
  {
   "cell_type": "markdown",
   "metadata": {},
   "source": [
    "> En el periodo estudiado podemos observar que se consumen más minutos en pospago que en prepago. También podemos observar la tendencia donde los minutos de prepago se van reduciéndo significativamente cada año"
   ]
  },
  {
   "cell_type": "markdown",
   "metadata": {},
   "source": [
    "### Descripción estadística de los datos"
   ]
  },
  {
   "cell_type": "code",
   "execution_count": 187,
   "metadata": {},
   "outputs": [],
   "source": [
    "ingresos=pd.read_csv(r\"Datasets transformados\\ingresos_por_anio.csv\")"
   ]
  },
  {
   "cell_type": "code",
   "execution_count": 188,
   "metadata": {},
   "outputs": [
    {
     "data": {
      "text/html": [
       "<div>\n",
       "<style scoped>\n",
       "    .dataframe tbody tr th:only-of-type {\n",
       "        vertical-align: middle;\n",
       "    }\n",
       "\n",
       "    .dataframe tbody tr th {\n",
       "        vertical-align: top;\n",
       "    }\n",
       "\n",
       "    .dataframe thead th {\n",
       "        text-align: right;\n",
       "    }\n",
       "</style>\n",
       "<table border=\"1\" class=\"dataframe\">\n",
       "  <thead>\n",
       "    <tr style=\"text-align: right;\">\n",
       "      <th></th>\n",
       "      <th>Año</th>\n",
       "      <th>Trimestre</th>\n",
       "      <th>Ingresos_internet</th>\n",
       "      <th>Ingresos_tel_fija</th>\n",
       "      <th>Ingresos_movil</th>\n",
       "    </tr>\n",
       "  </thead>\n",
       "  <tbody>\n",
       "    <tr>\n",
       "      <th>0</th>\n",
       "      <td>2014</td>\n",
       "      <td>10</td>\n",
       "      <td>13683949</td>\n",
       "      <td>12336089.87</td>\n",
       "      <td>72607710</td>\n",
       "    </tr>\n",
       "    <tr>\n",
       "      <th>1</th>\n",
       "      <td>2015</td>\n",
       "      <td>10</td>\n",
       "      <td>20108814</td>\n",
       "      <td>14091890.53</td>\n",
       "      <td>85950000</td>\n",
       "    </tr>\n",
       "    <tr>\n",
       "      <th>2</th>\n",
       "      <td>2016</td>\n",
       "      <td>10</td>\n",
       "      <td>26867508</td>\n",
       "      <td>18833594.26</td>\n",
       "      <td>107676433</td>\n",
       "    </tr>\n",
       "    <tr>\n",
       "      <th>3</th>\n",
       "      <td>2017</td>\n",
       "      <td>10</td>\n",
       "      <td>39671973</td>\n",
       "      <td>25528578.70</td>\n",
       "      <td>138536546</td>\n",
       "    </tr>\n",
       "    <tr>\n",
       "      <th>4</th>\n",
       "      <td>2018</td>\n",
       "      <td>10</td>\n",
       "      <td>59539594</td>\n",
       "      <td>35272511.51</td>\n",
       "      <td>166694340</td>\n",
       "    </tr>\n",
       "  </tbody>\n",
       "</table>\n",
       "</div>"
      ],
      "text/plain": [
       "    Año  Trimestre  Ingresos_internet  Ingresos_tel_fija  Ingresos_movil\n",
       "0  2014         10           13683949        12336089.87        72607710\n",
       "1  2015         10           20108814        14091890.53        85950000\n",
       "2  2016         10           26867508        18833594.26       107676433\n",
       "3  2017         10           39671973        25528578.70       138536546\n",
       "4  2018         10           59539594        35272511.51       166694340"
      ]
     },
     "execution_count": 188,
     "metadata": {},
     "output_type": "execute_result"
    }
   ],
   "source": [
    "ingresos.head()"
   ]
  },
  {
   "cell_type": "code",
   "execution_count": 190,
   "metadata": {},
   "outputs": [
    {
     "name": "stdout",
     "output_type": "stream",
     "text": [
      "       Ingresos_internet  Ingresos_tel_fija  Ingresos_movil\n",
      "count               9.00               9.00            9.00\n",
      "mean         65449663.78        41340943.30    187285092.11\n",
      "std          51267229.16        32116826.78    121415291.27\n",
      "min          13683949.00        12336089.87     72607710.00\n",
      "25%          26867508.00        18833594.26    107676433.00\n",
      "50%          51432896.00        25528578.70    138536546.00\n",
      "75%          86772531.00        60145769.91    231880240.00\n",
      "max         163383869.00       104963473.95    443035884.00\n"
     ]
    }
   ],
   "source": [
    "descripcion_ingresos = ingresos[['Ingresos_internet', 'Ingresos_tel_fija', 'Ingresos_movil']].describe()\n",
    "\n",
    "print(descripcion_ingresos)\n"
   ]
  },
  {
   "cell_type": "code",
   "execution_count": 200,
   "metadata": {},
   "outputs": [],
   "source": [
    "\n",
    "# Agrupar por año y sumar los valores para cada tipo de conexión\n",
    "agrupado_adsl = n_internet_tipo_trim.groupby('Año')['ADSL'].sum()\n",
    "agrupado_cablemodem = n_internet_tipo_trim.groupby('Año')['Cablemodem'].sum()\n",
    "agrupado_fibra_optica = n_internet_tipo_trim.groupby('Año')['Fibra óptica'].sum()\n",
    "agrupado_wireless = n_internet_tipo_trim.groupby('Año')['Wireless'].sum()\n",
    "agrupado_otros = n_internet_tipo_trim.groupby('Año')['Otros'].sum()\n",
    "agrupado_total = n_internet_tipo_trim.groupby('Año')['Total'].sum()\n",
    "\n",
    "# Crear un nuevo DataFrame con los resultados\n",
    "tipo_conexion = pd.DataFrame({\n",
    "    'ADSL': agrupado_adsl,\n",
    "    'Cablemodem': agrupado_cablemodem,\n",
    "    'Fibra óptica': agrupado_fibra_optica,\n",
    "    'Wireless': agrupado_wireless,\n",
    "    'Otros': agrupado_otros,\n",
    "    'Total': agrupado_total\n",
    "})\n",
    "\n",
    "# Exportar el DataFrame a un archivo CSV\n",
    "tipo_conexion.to_csv('Datasets transformados/tipo_conexion.csv', index=True)\n",
    "\n"
   ]
  },
  {
   "cell_type": "code",
   "execution_count": 214,
   "metadata": {},
   "outputs": [],
   "source": [
    "tipo_conexion=pd.read_csv(r\"Datasets transformados\\tipo_conexion.csv\")"
   ]
  },
  {
   "cell_type": "code",
   "execution_count": 206,
   "metadata": {},
   "outputs": [
    {
     "name": "stdout",
     "output_type": "stream",
     "text": [
      "             ADSL  Cablemodem  Wireless  Fibra óptica\n",
      "count        9.00        9.00      9.00          9.00\n",
      "mean  11505698.00 14697761.67    840.22    2252485.56\n",
      "std    4639803.09  5441001.46    605.71    2115962.67\n",
      "min    1533240.00  6073426.00    303.00     604862.00\n",
      "25%    9072828.00 11162971.00    336.00     680127.00\n",
      "50%   13981984.00 14148063.00    545.00    1079124.00\n",
      "75%   14884750.00 18754974.00   1262.00    3191409.00\n",
      "max   15115694.00 22877010.00   1925.00    6473506.00\n"
     ]
    }
   ],
   "source": [
    "descripcion_conexion = tipo_conexion[['ADSL', 'Cablemodem','Wireless' ,'Fibra óptica']].describe()\n",
    "\n",
    "print(descripcion_conexion)"
   ]
  },
  {
   "cell_type": "markdown",
   "metadata": {},
   "source": [
    "### Correlación de las variables"
   ]
  },
  {
   "cell_type": "code",
   "execution_count": 194,
   "metadata": {},
   "outputs": [
    {
     "data": {
      "image/png": "[encoded data removed]",
      "text/plain": [
       "<Figure size 1300x900 with 2 Axes>"
      ]
     },
     "metadata": {},
     "output_type": "display_data"
    }
   ],
   "source": [
    "\n",
    "# Seleccionar solo las columnas de interés\n",
    "columnas_interes = [\"Año\", \"Ingresos_internet\", \"Ingresos_tel_fija\", \"Ingresos_movil\"]\n",
    "df_interes = ingresos[columnas_interes]\n",
    "\n",
    "# Calcular la matriz de correlación\n",
    "corr_i = df_interes.corr().round(2)\n",
    "\n",
    "# Crear el heatmap\n",
    "plt.figure(figsize=(13, 9))\n",
    "sns.heatmap(data=corr_i, annot=True, cmap='coolwarm', fmt=\".2f\", linewidths=0.5, annot_kws={\"size\": 10})\n",
    "plt.title(\"Matriz de Correlación Ingresos por servicio\")\n",
    "plt.tight_layout()\n",
    "plt.show()\n"
   ]
  },
  {
   "cell_type": "markdown",
   "metadata": {},
   "source": [
    "> Podemos observar que existe una alta correlación positiva entre los ingresos por internet y los ingresos por telefonía móvil, ingresos por internet y los ingresos por telefonía fija. Deduciendo con esto que todos los 3 servicios tienen una alta correlación en sus ingresos\n",
    "> Podemos observar que hay una coorelación positiva media entre los ingresos de cada servicio y los años analizados"
   ]
  },
  {
   "cell_type": "code",
   "execution_count": 208,
   "metadata": {},
   "outputs": [
    {
     "data": {
      "image/png": "[encoded data removed]",
      "text/plain": [
       "<Figure size 1300x900 with 2 Axes>"
      ]
     },
     "metadata": {},
     "output_type": "display_data"
    }
   ],
   "source": [
    "# Seleccionar solo las columnas de interés\n",
    "columnas_interes_c = ['ADSL', 'Cablemodem','Wireless' ,'Fibra óptica']\n",
    "df_interes_c = tipo_conexion[columnas_interes_c]\n",
    "\n",
    "# Calcular la matriz de correlación\n",
    "corr_c = df_interes_c.corr().round(2)\n",
    "\n",
    "# Crear el heatmap\n",
    "plt.figure(figsize=(13, 9))\n",
    "sns.heatmap(data=corr_c, annot=True, cmap='coolwarm', fmt=\".2f\", linewidths=0.5, annot_kws={\"size\": 10})\n",
    "plt.title(\"Matriz de Correlación Tecnología\")\n",
    "plt.tight_layout()\n",
    "plt.show()"
   ]
  },
  {
   "cell_type": "markdown",
   "metadata": {},
   "source": [
    "> Podemos observar que hay una alta correlación positiva entre las tencologías wireless y fibra óptica, cablemodem y wireless\n",
    "> Tenemos una correlación positiva  media entre las tecnologías cablemodem y fibra óptica\n",
    "> Tenemos una correlación negativa baja entre ADSL y fibra óptica, wireless y ADSL\n",
    "> Tenemos una correlación casi nula entre cablemodem y ADSL\n"
   ]
  },
  {
   "cell_type": "markdown",
   "metadata": {},
   "source": [
    "### Distribuciones "
   ]
  },
  {
   "cell_type": "code",
   "execution_count": 213,
   "metadata": {},
   "outputs": [],
   "source": [
    "# Agrupar los datos por provincia y sumar los accesos por cada 100 hogares\n",
    "accesos_internet_provincia = p_internet_accesos_habitantes_trim.groupby('Provincia')['Accesos por cada 100 hogares'].sum().reset_index()\n",
    "\n",
    "\n",
    "# Exportar el DataFrame resultante a un archivo CSV\n",
    "#accesos_internet_provincia.to_csv('Datasets transformados/Accesos_internet_provincia.csv', index=False)"
   ]
  },
  {
   "cell_type": "code",
   "execution_count": 215,
   "metadata": {},
   "outputs": [],
   "source": [
    "accesos_internet_provincia=pd.read_csv(r\"Datasets transformados\\Accesos_internet_provincia.csv\")"
   ]
  },
  {
   "cell_type": "code",
   "execution_count": 217,
   "metadata": {},
   "outputs": [
    {
     "data": {
      "image/png": "[encoded data removed]",
      "text/plain": [
       "<Figure size 1000x600 with 1 Axes>"
      ]
     },
     "metadata": {},
     "output_type": "display_data"
    }
   ],
   "source": [
    "\n",
    "# Crear una figura y un eje para el gráfico\n",
    "plt.figure(figsize=(10, 6))\n",
    "ax = plt.gca()\n",
    "\n",
    "# Graficar la distribución de accesos por provincia\n",
    "accesos_internet_provincia['Accesos por cada 100 hogares'].plot(kind='hist', bins=20, alpha=0.7, edgecolor='black', ax=ax)\n",
    "\n",
    "# Personalizar el gráfico\n",
    "plt.title('Distribución de Accesos por Provincia')\n",
    "plt.xlabel('Accesos por cada 100 hogares')\n",
    "plt.ylabel('Frecuencia')\n",
    "plt.grid(True)\n",
    "\n",
    "# Mostrar el gráfico\n",
    "plt.show()\n"
   ]
  },
  {
   "cell_type": "markdown",
   "metadata": {},
   "source": [
    "> Podemos observar que los accesos a internet no siguen una distribución normal"
   ]
  }
 ],
 "metadata": {
  "kernelspec": {
   "display_name": "Python 3",
   "language": "python",
   "name": "python3"
  },
  "language_info": {
   "codemirror_mode": {
    "name": "ipython",
    "version": 3
   },
   "file_extension": ".py",
   "mimetype": "text/x-python",
   "name": "python",
   "nbconvert_exporter": "python",
   "pygments_lexer": "ipython3",
   "version": "3.11.4"
  },
  "orig_nbformat": 4
 },
 "nbformat": 4,
 "nbformat_minor": 2
}
